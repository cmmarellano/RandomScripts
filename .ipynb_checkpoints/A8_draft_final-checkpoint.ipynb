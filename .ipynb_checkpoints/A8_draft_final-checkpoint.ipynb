{
 "cells": [
  {
   "cell_type": "markdown",
   "id": "7839dc35",
   "metadata": {},
   "source": [
    "### Spatial Statistics\n",
    "### Assignment 8\n",
    "Prepared by: Carla Mae Arellano (https://github.com/cmmarellano/SpatialStatistics)\n",
    "\n",
    "\n",
    "\n",
    "## London Crime Analysis"
   ]
  },
  {
   "cell_type": "markdown",
   "id": "dd16ca4f",
   "metadata": {},
   "source": [
    "## Data Preparation"
   ]
  },
  {
   "cell_type": "code",
   "execution_count": 12,
   "id": "7940dbd3",
   "metadata": {},
   "outputs": [],
   "source": [
    "\n",
    "#loading the crime datasets of 2021 from the Metropolitan Police service\n",
    "#Crime data from https://data.police.uk/data/\n",
    "\n",
    "df1 <- read.csv(\"data/2021-01-metropolitan-street.csv\", stringsAsFactors = FALSE)\n",
    "df2 <- read.csv(\"data/2021-02-metropolitan-street.csv\", stringsAsFactors = FALSE)\n",
    "df3 <- read.csv(\"data/2021-03-metropolitan-street.csv\", stringsAsFactors = FALSE)\n",
    "df4 <- read.csv(\"data/2021-04-metropolitan-street.csv\", stringsAsFactors = FALSE)\n",
    "df5 <- read.csv(\"data/2021-05-metropolitan-street.csv\", stringsAsFactors = FALSE)\n",
    "df6 <- read.csv(\"data/2021-06-metropolitan-street.csv\", stringsAsFactors = FALSE)\n",
    "df7 <- read.csv(\"data/2021-07-metropolitan-street.csv\", stringsAsFactors = FALSE)\n",
    "df8 <- read.csv(\"data/2021-08-metropolitan-street.csv\", stringsAsFactors = FALSE)\n",
    "df9 <- read.csv(\"data/2021-09-metropolitan-street.csv\", stringsAsFactors = FALSE)\n",
    "df10 <- read.csv(\"data/2021-10-metropolitan-street.csv\", stringsAsFactors = FALSE)\n",
    "df11 <- read.csv(\"data/2021-11-metropolitan-street.csv\", stringsAsFactors = FALSE)\n",
    "df12 <- read.csv(\"data/2021-12-metropolitan-street.csv\", stringsAsFactors = FALSE)"
   ]
  },
  {
   "cell_type": "code",
   "execution_count": 13,
   "id": "1c501761",
   "metadata": {},
   "outputs": [],
   "source": [
    "#Collating into one data frame\n",
    "df2021<- rbind(df1,df2,df3,df4,df5,df6,df7,df8,df9,df10,df11,df12)"
   ]
  },
  {
   "cell_type": "code",
   "execution_count": 14,
   "id": "a447f28b",
   "metadata": {},
   "outputs": [
    {
     "data": {
      "text/html": [
       "<table class=\"dataframe\">\n",
       "<caption>A data.frame: 6 × 12</caption>\n",
       "<thead>\n",
       "\t<tr><th></th><th scope=col>Crime.ID</th><th scope=col>Month</th><th scope=col>Reported.by</th><th scope=col>Falls.within</th><th scope=col>Longitude</th><th scope=col>Latitude</th><th scope=col>Location</th><th scope=col>LSOA.code</th><th scope=col>LSOA.name</th><th scope=col>Crime.type</th><th scope=col>Last.outcome.category</th><th scope=col>Context</th></tr>\n",
       "\t<tr><th></th><th scope=col>&lt;chr&gt;</th><th scope=col>&lt;chr&gt;</th><th scope=col>&lt;chr&gt;</th><th scope=col>&lt;chr&gt;</th><th scope=col>&lt;dbl&gt;</th><th scope=col>&lt;dbl&gt;</th><th scope=col>&lt;chr&gt;</th><th scope=col>&lt;chr&gt;</th><th scope=col>&lt;chr&gt;</th><th scope=col>&lt;chr&gt;</th><th scope=col>&lt;chr&gt;</th><th scope=col>&lt;lgl&gt;</th></tr>\n",
       "</thead>\n",
       "<tbody>\n",
       "\t<tr><th scope=row>1</th><td>d7184bda9365b4c4af9838f13e1daa24e98c0aa40eab396399156b72867eb8c5</td><td>1/1/2021</td><td>Metropolitan Police Service</td><td>Metropolitan Police Service</td><td>0.880386</td><td>51.21919</td><td>On or near Buck Street     </td><td>E01023989</td><td>Ashford 002C             </td><td>Violence and sexual offences</td><td>Status update unavailable</td><td>NA</td></tr>\n",
       "\t<tr><th scope=row>2</th><td>                                                                </td><td>1/1/2021</td><td>Metropolitan Police Service</td><td>Metropolitan Police Service</td><td>0.140192</td><td>51.58231</td><td>On or near Hatch Grove     </td><td>E01000027</td><td>Barking and Dagenham 001A</td><td>Anti-social behaviour       </td><td>                         </td><td>NA</td></tr>\n",
       "\t<tr><th scope=row>3</th><td>                                                                </td><td>1/1/2021</td><td>Metropolitan Police Service</td><td>Metropolitan Police Service</td><td>0.134947</td><td>51.58806</td><td>On or near Mead Grove      </td><td>E01000027</td><td>Barking and Dagenham 001A</td><td>Anti-social behaviour       </td><td>                         </td><td>NA</td></tr>\n",
       "\t<tr><th scope=row>4</th><td>                                                                </td><td>1/1/2021</td><td>Metropolitan Police Service</td><td>Metropolitan Police Service</td><td>0.145888</td><td>51.59383</td><td>On or near Providence Place</td><td>E01000027</td><td>Barking and Dagenham 001A</td><td>Anti-social behaviour       </td><td>                         </td><td>NA</td></tr>\n",
       "\t<tr><th scope=row>5</th><td>                                                                </td><td>1/1/2021</td><td>Metropolitan Police Service</td><td>Metropolitan Police Service</td><td>0.134947</td><td>51.58806</td><td>On or near Mead Grove      </td><td>E01000027</td><td>Barking and Dagenham 001A</td><td>Anti-social behaviour       </td><td>                         </td><td>NA</td></tr>\n",
       "\t<tr><th scope=row>6</th><td>                                                                </td><td>1/1/2021</td><td>Metropolitan Police Service</td><td>Metropolitan Police Service</td><td>0.141143</td><td>51.59087</td><td>On or near Furze Farm Close</td><td>E01000027</td><td>Barking and Dagenham 001A</td><td>Anti-social behaviour       </td><td>                         </td><td>NA</td></tr>\n",
       "</tbody>\n",
       "</table>\n"
      ],
      "text/latex": [
       "A data.frame: 6 × 12\n",
       "\\begin{tabular}{r|llllllllllll}\n",
       "  & Crime.ID & Month & Reported.by & Falls.within & Longitude & Latitude & Location & LSOA.code & LSOA.name & Crime.type & Last.outcome.category & Context\\\\\n",
       "  & <chr> & <chr> & <chr> & <chr> & <dbl> & <dbl> & <chr> & <chr> & <chr> & <chr> & <chr> & <lgl>\\\\\n",
       "\\hline\n",
       "\t1 & d7184bda9365b4c4af9838f13e1daa24e98c0aa40eab396399156b72867eb8c5 & 1/1/2021 & Metropolitan Police Service & Metropolitan Police Service & 0.880386 & 51.21919 & On or near Buck Street      & E01023989 & Ashford 002C              & Violence and sexual offences & Status update unavailable & NA\\\\\n",
       "\t2 &                                                                  & 1/1/2021 & Metropolitan Police Service & Metropolitan Police Service & 0.140192 & 51.58231 & On or near Hatch Grove      & E01000027 & Barking and Dagenham 001A & Anti-social behaviour        &                           & NA\\\\\n",
       "\t3 &                                                                  & 1/1/2021 & Metropolitan Police Service & Metropolitan Police Service & 0.134947 & 51.58806 & On or near Mead Grove       & E01000027 & Barking and Dagenham 001A & Anti-social behaviour        &                           & NA\\\\\n",
       "\t4 &                                                                  & 1/1/2021 & Metropolitan Police Service & Metropolitan Police Service & 0.145888 & 51.59383 & On or near Providence Place & E01000027 & Barking and Dagenham 001A & Anti-social behaviour        &                           & NA\\\\\n",
       "\t5 &                                                                  & 1/1/2021 & Metropolitan Police Service & Metropolitan Police Service & 0.134947 & 51.58806 & On or near Mead Grove       & E01000027 & Barking and Dagenham 001A & Anti-social behaviour        &                           & NA\\\\\n",
       "\t6 &                                                                  & 1/1/2021 & Metropolitan Police Service & Metropolitan Police Service & 0.141143 & 51.59087 & On or near Furze Farm Close & E01000027 & Barking and Dagenham 001A & Anti-social behaviour        &                           & NA\\\\\n",
       "\\end{tabular}\n"
      ],
      "text/markdown": [
       "\n",
       "A data.frame: 6 × 12\n",
       "\n",
       "| <!--/--> | Crime.ID &lt;chr&gt; | Month &lt;chr&gt; | Reported.by &lt;chr&gt; | Falls.within &lt;chr&gt; | Longitude &lt;dbl&gt; | Latitude &lt;dbl&gt; | Location &lt;chr&gt; | LSOA.code &lt;chr&gt; | LSOA.name &lt;chr&gt; | Crime.type &lt;chr&gt; | Last.outcome.category &lt;chr&gt; | Context &lt;lgl&gt; |\n",
       "|---|---|---|---|---|---|---|---|---|---|---|---|---|\n",
       "| 1 | d7184bda9365b4c4af9838f13e1daa24e98c0aa40eab396399156b72867eb8c5 | 1/1/2021 | Metropolitan Police Service | Metropolitan Police Service | 0.880386 | 51.21919 | On or near Buck Street      | E01023989 | Ashford 002C              | Violence and sexual offences | Status update unavailable | NA |\n",
       "| 2 | <!----> | 1/1/2021 | Metropolitan Police Service | Metropolitan Police Service | 0.140192 | 51.58231 | On or near Hatch Grove      | E01000027 | Barking and Dagenham 001A | Anti-social behaviour        | <!----> | NA |\n",
       "| 3 | <!----> | 1/1/2021 | Metropolitan Police Service | Metropolitan Police Service | 0.134947 | 51.58806 | On or near Mead Grove       | E01000027 | Barking and Dagenham 001A | Anti-social behaviour        | <!----> | NA |\n",
       "| 4 | <!----> | 1/1/2021 | Metropolitan Police Service | Metropolitan Police Service | 0.145888 | 51.59383 | On or near Providence Place | E01000027 | Barking and Dagenham 001A | Anti-social behaviour        | <!----> | NA |\n",
       "| 5 | <!----> | 1/1/2021 | Metropolitan Police Service | Metropolitan Police Service | 0.134947 | 51.58806 | On or near Mead Grove       | E01000027 | Barking and Dagenham 001A | Anti-social behaviour        | <!----> | NA |\n",
       "| 6 | <!----> | 1/1/2021 | Metropolitan Police Service | Metropolitan Police Service | 0.141143 | 51.59087 | On or near Furze Farm Close | E01000027 | Barking and Dagenham 001A | Anti-social behaviour        | <!----> | NA |\n",
       "\n"
      ],
      "text/plain": [
       "  Crime.ID                                                         Month   \n",
       "1 d7184bda9365b4c4af9838f13e1daa24e98c0aa40eab396399156b72867eb8c5 1/1/2021\n",
       "2                                                                  1/1/2021\n",
       "3                                                                  1/1/2021\n",
       "4                                                                  1/1/2021\n",
       "5                                                                  1/1/2021\n",
       "6                                                                  1/1/2021\n",
       "  Reported.by                 Falls.within                Longitude Latitude\n",
       "1 Metropolitan Police Service Metropolitan Police Service 0.880386  51.21919\n",
       "2 Metropolitan Police Service Metropolitan Police Service 0.140192  51.58231\n",
       "3 Metropolitan Police Service Metropolitan Police Service 0.134947  51.58806\n",
       "4 Metropolitan Police Service Metropolitan Police Service 0.145888  51.59383\n",
       "5 Metropolitan Police Service Metropolitan Police Service 0.134947  51.58806\n",
       "6 Metropolitan Police Service Metropolitan Police Service 0.141143  51.59087\n",
       "  Location                    LSOA.code LSOA.name                \n",
       "1 On or near Buck Street      E01023989 Ashford 002C             \n",
       "2 On or near Hatch Grove      E01000027 Barking and Dagenham 001A\n",
       "3 On or near Mead Grove       E01000027 Barking and Dagenham 001A\n",
       "4 On or near Providence Place E01000027 Barking and Dagenham 001A\n",
       "5 On or near Mead Grove       E01000027 Barking and Dagenham 001A\n",
       "6 On or near Furze Farm Close E01000027 Barking and Dagenham 001A\n",
       "  Crime.type                   Last.outcome.category     Context\n",
       "1 Violence and sexual offences Status update unavailable NA     \n",
       "2 Anti-social behaviour                                  NA     \n",
       "3 Anti-social behaviour                                  NA     \n",
       "4 Anti-social behaviour                                  NA     \n",
       "5 Anti-social behaviour                                  NA     \n",
       "6 Anti-social behaviour                                  NA     "
      ]
     },
     "metadata": {},
     "output_type": "display_data"
    }
   ],
   "source": [
    "#Preview of the data frame\n",
    "head(df2021)"
   ]
  },
  {
   "cell_type": "code",
   "execution_count": 4,
   "id": "073958e0",
   "metadata": {},
   "outputs": [
    {
     "data": {
      "text/html": [
       "<table class=\"dataframe\">\n",
       "<caption>A data.frame: 6 × 12</caption>\n",
       "<thead>\n",
       "\t<tr><th></th><th scope=col>Crime.ID</th><th scope=col>Month</th><th scope=col>Reported.by</th><th scope=col>Falls.within</th><th scope=col>Longitude</th><th scope=col>Latitude</th><th scope=col>Location</th><th scope=col>LSOA.code</th><th scope=col>LSOA.name</th><th scope=col>Crime.type</th><th scope=col>Last.outcome.category</th><th scope=col>Context</th></tr>\n",
       "\t<tr><th></th><th scope=col>&lt;chr&gt;</th><th scope=col>&lt;chr&gt;</th><th scope=col>&lt;chr&gt;</th><th scope=col>&lt;chr&gt;</th><th scope=col>&lt;dbl&gt;</th><th scope=col>&lt;dbl&gt;</th><th scope=col>&lt;chr&gt;</th><th scope=col>&lt;chr&gt;</th><th scope=col>&lt;chr&gt;</th><th scope=col>&lt;chr&gt;</th><th scope=col>&lt;chr&gt;</th><th scope=col>&lt;lgl&gt;</th></tr>\n",
       "</thead>\n",
       "<tbody>\n",
       "\t<tr><th scope=row>1072871</th><td>08a6ee1a0a0cddde72f43a463305f14992546be5a66ba39a2e850b6341d84c81</td><td>12/1/2021</td><td>Metropolitan Police Service</td><td>Metropolitan Police Service</td><td>NA</td><td>NA</td><td>No Location</td><td></td><td></td><td>Other crime</td><td>Investigation complete</td><td>NA</td></tr>\n",
       "\t<tr><th scope=row>1072872</th><td>f42482e98886384700303a9bc9eaae695478a18aec4ceba052a94b73145cd477</td><td>12/1/2021</td><td>Metropolitan Police Service</td><td>Metropolitan Police Service</td><td>NA</td><td>NA</td><td>No Location</td><td></td><td></td><td>Other crime</td><td>Awaiting court outcome</td><td>NA</td></tr>\n",
       "\t<tr><th scope=row>1072873</th><td>9c8efaf2b5619705b711756d0bbf4e2b233ffd22ad9c18759430cd7618c4eccc</td><td>12/1/2021</td><td>Metropolitan Police Service</td><td>Metropolitan Police Service</td><td>NA</td><td>NA</td><td>No Location</td><td></td><td></td><td>Other crime</td><td>Investigation complete</td><td>NA</td></tr>\n",
       "\t<tr><th scope=row>1072874</th><td>0047aa2b4f5f01908c34a365035ba6ae94bdaaaf7fdf40b1e9125a000cf9242a</td><td>12/1/2021</td><td>Metropolitan Police Service</td><td>Metropolitan Police Service</td><td>NA</td><td>NA</td><td>No Location</td><td></td><td></td><td>Other crime</td><td>Investigation complete</td><td>NA</td></tr>\n",
       "\t<tr><th scope=row>1072875</th><td>8117674df50bb6b4b20d9c32dead9f86d58a195077a61b6df2ad4dfbf74b54fd</td><td>12/1/2021</td><td>Metropolitan Police Service</td><td>Metropolitan Police Service</td><td>NA</td><td>NA</td><td>No Location</td><td></td><td></td><td>Other crime</td><td>Local resolution      </td><td>NA</td></tr>\n",
       "\t<tr><th scope=row>1072876</th><td>4424a9770463dd6977485eb7469503f862e4b19c2539077e3a94d1e72e36a8d4</td><td>12/1/2021</td><td>Metropolitan Police Service</td><td>Metropolitan Police Service</td><td>NA</td><td>NA</td><td>No Location</td><td></td><td></td><td>Other crime</td><td>Local resolution      </td><td>NA</td></tr>\n",
       "</tbody>\n",
       "</table>\n"
      ],
      "text/latex": [
       "A data.frame: 6 × 12\n",
       "\\begin{tabular}{r|llllllllllll}\n",
       "  & Crime.ID & Month & Reported.by & Falls.within & Longitude & Latitude & Location & LSOA.code & LSOA.name & Crime.type & Last.outcome.category & Context\\\\\n",
       "  & <chr> & <chr> & <chr> & <chr> & <dbl> & <dbl> & <chr> & <chr> & <chr> & <chr> & <chr> & <lgl>\\\\\n",
       "\\hline\n",
       "\t1072871 & 08a6ee1a0a0cddde72f43a463305f14992546be5a66ba39a2e850b6341d84c81 & 12/1/2021 & Metropolitan Police Service & Metropolitan Police Service & NA & NA & No Location &  &  & Other crime & Investigation complete & NA\\\\\n",
       "\t1072872 & f42482e98886384700303a9bc9eaae695478a18aec4ceba052a94b73145cd477 & 12/1/2021 & Metropolitan Police Service & Metropolitan Police Service & NA & NA & No Location &  &  & Other crime & Awaiting court outcome & NA\\\\\n",
       "\t1072873 & 9c8efaf2b5619705b711756d0bbf4e2b233ffd22ad9c18759430cd7618c4eccc & 12/1/2021 & Metropolitan Police Service & Metropolitan Police Service & NA & NA & No Location &  &  & Other crime & Investigation complete & NA\\\\\n",
       "\t1072874 & 0047aa2b4f5f01908c34a365035ba6ae94bdaaaf7fdf40b1e9125a000cf9242a & 12/1/2021 & Metropolitan Police Service & Metropolitan Police Service & NA & NA & No Location &  &  & Other crime & Investigation complete & NA\\\\\n",
       "\t1072875 & 8117674df50bb6b4b20d9c32dead9f86d58a195077a61b6df2ad4dfbf74b54fd & 12/1/2021 & Metropolitan Police Service & Metropolitan Police Service & NA & NA & No Location &  &  & Other crime & Local resolution       & NA\\\\\n",
       "\t1072876 & 4424a9770463dd6977485eb7469503f862e4b19c2539077e3a94d1e72e36a8d4 & 12/1/2021 & Metropolitan Police Service & Metropolitan Police Service & NA & NA & No Location &  &  & Other crime & Local resolution       & NA\\\\\n",
       "\\end{tabular}\n"
      ],
      "text/markdown": [
       "\n",
       "A data.frame: 6 × 12\n",
       "\n",
       "| <!--/--> | Crime.ID &lt;chr&gt; | Month &lt;chr&gt; | Reported.by &lt;chr&gt; | Falls.within &lt;chr&gt; | Longitude &lt;dbl&gt; | Latitude &lt;dbl&gt; | Location &lt;chr&gt; | LSOA.code &lt;chr&gt; | LSOA.name &lt;chr&gt; | Crime.type &lt;chr&gt; | Last.outcome.category &lt;chr&gt; | Context &lt;lgl&gt; |\n",
       "|---|---|---|---|---|---|---|---|---|---|---|---|---|\n",
       "| 1072871 | 08a6ee1a0a0cddde72f43a463305f14992546be5a66ba39a2e850b6341d84c81 | 12/1/2021 | Metropolitan Police Service | Metropolitan Police Service | NA | NA | No Location | <!----> | <!----> | Other crime | Investigation complete | NA |\n",
       "| 1072872 | f42482e98886384700303a9bc9eaae695478a18aec4ceba052a94b73145cd477 | 12/1/2021 | Metropolitan Police Service | Metropolitan Police Service | NA | NA | No Location | <!----> | <!----> | Other crime | Awaiting court outcome | NA |\n",
       "| 1072873 | 9c8efaf2b5619705b711756d0bbf4e2b233ffd22ad9c18759430cd7618c4eccc | 12/1/2021 | Metropolitan Police Service | Metropolitan Police Service | NA | NA | No Location | <!----> | <!----> | Other crime | Investigation complete | NA |\n",
       "| 1072874 | 0047aa2b4f5f01908c34a365035ba6ae94bdaaaf7fdf40b1e9125a000cf9242a | 12/1/2021 | Metropolitan Police Service | Metropolitan Police Service | NA | NA | No Location | <!----> | <!----> | Other crime | Investigation complete | NA |\n",
       "| 1072875 | 8117674df50bb6b4b20d9c32dead9f86d58a195077a61b6df2ad4dfbf74b54fd | 12/1/2021 | Metropolitan Police Service | Metropolitan Police Service | NA | NA | No Location | <!----> | <!----> | Other crime | Local resolution       | NA |\n",
       "| 1072876 | 4424a9770463dd6977485eb7469503f862e4b19c2539077e3a94d1e72e36a8d4 | 12/1/2021 | Metropolitan Police Service | Metropolitan Police Service | NA | NA | No Location | <!----> | <!----> | Other crime | Local resolution       | NA |\n",
       "\n"
      ],
      "text/plain": [
       "        Crime.ID                                                        \n",
       "1072871 08a6ee1a0a0cddde72f43a463305f14992546be5a66ba39a2e850b6341d84c81\n",
       "1072872 f42482e98886384700303a9bc9eaae695478a18aec4ceba052a94b73145cd477\n",
       "1072873 9c8efaf2b5619705b711756d0bbf4e2b233ffd22ad9c18759430cd7618c4eccc\n",
       "1072874 0047aa2b4f5f01908c34a365035ba6ae94bdaaaf7fdf40b1e9125a000cf9242a\n",
       "1072875 8117674df50bb6b4b20d9c32dead9f86d58a195077a61b6df2ad4dfbf74b54fd\n",
       "1072876 4424a9770463dd6977485eb7469503f862e4b19c2539077e3a94d1e72e36a8d4\n",
       "        Month     Reported.by                 Falls.within               \n",
       "1072871 12/1/2021 Metropolitan Police Service Metropolitan Police Service\n",
       "1072872 12/1/2021 Metropolitan Police Service Metropolitan Police Service\n",
       "1072873 12/1/2021 Metropolitan Police Service Metropolitan Police Service\n",
       "1072874 12/1/2021 Metropolitan Police Service Metropolitan Police Service\n",
       "1072875 12/1/2021 Metropolitan Police Service Metropolitan Police Service\n",
       "1072876 12/1/2021 Metropolitan Police Service Metropolitan Police Service\n",
       "        Longitude Latitude Location    LSOA.code LSOA.name Crime.type \n",
       "1072871 NA        NA       No Location                     Other crime\n",
       "1072872 NA        NA       No Location                     Other crime\n",
       "1072873 NA        NA       No Location                     Other crime\n",
       "1072874 NA        NA       No Location                     Other crime\n",
       "1072875 NA        NA       No Location                     Other crime\n",
       "1072876 NA        NA       No Location                     Other crime\n",
       "        Last.outcome.category  Context\n",
       "1072871 Investigation complete NA     \n",
       "1072872 Awaiting court outcome NA     \n",
       "1072873 Investigation complete NA     \n",
       "1072874 Investigation complete NA     \n",
       "1072875 Local resolution       NA     \n",
       "1072876 Local resolution       NA     "
      ]
     },
     "metadata": {},
     "output_type": "display_data"
    }
   ],
   "source": [
    "tail(df2021)"
   ]
  },
  {
   "cell_type": "code",
   "execution_count": 15,
   "id": "81d223ec",
   "metadata": {},
   "outputs": [
    {
     "name": "stdout",
     "output_type": "stream",
     "text": [
      "'data.frame':\t1072876 obs. of  12 variables:\n",
      " $ Crime.ID             : chr  \"d7184bda9365b4c4af9838f13e1daa24e98c0aa40eab396399156b72867eb8c5\" \"\" \"\" \"\" ...\n",
      " $ Month                : chr  \"1/1/2021\" \"1/1/2021\" \"1/1/2021\" \"1/1/2021\" ...\n",
      " $ Reported.by          : chr  \"Metropolitan Police Service\" \"Metropolitan Police Service\" \"Metropolitan Police Service\" \"Metropolitan Police Service\" ...\n",
      " $ Falls.within         : chr  \"Metropolitan Police Service\" \"Metropolitan Police Service\" \"Metropolitan Police Service\" \"Metropolitan Police Service\" ...\n",
      " $ Longitude            : num  0.88 0.14 0.135 0.146 0.135 ...\n",
      " $ Latitude             : num  51.2 51.6 51.6 51.6 51.6 ...\n",
      " $ Location             : chr  \"On or near Buck Street\" \"On or near Hatch Grove\" \"On or near Mead Grove\" \"On or near Providence Place\" ...\n",
      " $ LSOA.code            : chr  \"E01023989\" \"E01000027\" \"E01000027\" \"E01000027\" ...\n",
      " $ LSOA.name            : chr  \"Ashford 002C\" \"Barking and Dagenham 001A\" \"Barking and Dagenham 001A\" \"Barking and Dagenham 001A\" ...\n",
      " $ Crime.type           : chr  \"Violence and sexual offences\" \"Anti-social behaviour\" \"Anti-social behaviour\" \"Anti-social behaviour\" ...\n",
      " $ Last.outcome.category: chr  \"Status update unavailable\" \"\" \"\" \"\" ...\n",
      " $ Context              : logi  NA NA NA NA NA NA ...\n"
     ]
    }
   ],
   "source": [
    "#Printing a summary of the dataframe\n",
    "str(df2021)"
   ]
  },
  {
   "cell_type": "code",
   "execution_count": 7,
   "id": "13ae3c55",
   "metadata": {},
   "outputs": [
    {
     "data": {
      "text/html": [
       "'character'"
      ],
      "text/latex": [
       "'character'"
      ],
      "text/markdown": [
       "'character'"
      ],
      "text/plain": [
       "[1] \"character\""
      ]
     },
     "metadata": {},
     "output_type": "display_data"
    }
   ],
   "source": [
    "#We would like to have the $Month column as a \"Date\" column\n",
    "class(df2021$Month)"
   ]
  },
  {
   "cell_type": "code",
   "execution_count": 16,
   "id": "57073013",
   "metadata": {},
   "outputs": [],
   "source": [
    "#Transforming \"Character\" to \"Date\"\n",
    "df2021$Month <- as.Date(df2021$Month, format=\"%d/%m/%Y\")"
   ]
  },
  {
   "cell_type": "code",
   "execution_count": 17,
   "id": "55f6ccf0",
   "metadata": {},
   "outputs": [
    {
     "data": {
      "text/html": [
       "'Date'"
      ],
      "text/latex": [
       "'Date'"
      ],
      "text/markdown": [
       "'Date'"
      ],
      "text/plain": [
       "[1] \"Date\""
      ]
     },
     "metadata": {},
     "output_type": "display_data"
    }
   ],
   "source": [
    "#Class of the updated column\n",
    "class(df2021$Month)"
   ]
  },
  {
   "cell_type": "code",
   "execution_count": 18,
   "id": "10f57aad",
   "metadata": {},
   "outputs": [
    {
     "data": {
      "text/html": [
       "<style>\n",
       ".list-inline {list-style: none; margin:0; padding: 0}\n",
       ".list-inline>li {display: inline-block}\n",
       ".list-inline>li:not(:last-child)::after {content: \"\\00b7\"; padding: 0 .5ex}\n",
       "</style>\n",
       "<ol class=list-inline><li><time datetime=\"2021-01-12\">2021-01-12</time></li><li><time datetime=\"2021-01-12\">2021-01-12</time></li><li><time datetime=\"2021-01-12\">2021-01-12</time></li><li><time datetime=\"2021-01-12\">2021-01-12</time></li><li><time datetime=\"2021-01-12\">2021-01-12</time></li><li><time datetime=\"2021-01-12\">2021-01-12</time></li></ol>\n"
      ],
      "text/latex": [
       "\\begin{enumerate*}\n",
       "\\item 2021-01-12\n",
       "\\item 2021-01-12\n",
       "\\item 2021-01-12\n",
       "\\item 2021-01-12\n",
       "\\item 2021-01-12\n",
       "\\item 2021-01-12\n",
       "\\end{enumerate*}\n"
      ],
      "text/markdown": [
       "1. 2021-01-12\n",
       "2. 2021-01-12\n",
       "3. 2021-01-12\n",
       "4. 2021-01-12\n",
       "5. 2021-01-12\n",
       "6. 2021-01-12\n",
       "\n",
       "\n"
      ],
      "text/plain": [
       "[1] \"2021-01-12\" \"2021-01-12\" \"2021-01-12\" \"2021-01-12\" \"2021-01-12\"\n",
       "[6] \"2021-01-12\""
      ]
     },
     "metadata": {},
     "output_type": "display_data"
    }
   ],
   "source": [
    "#Sample print of $Month column\n",
    "tail(df2021$Month)"
   ]
  },
  {
   "cell_type": "code",
   "execution_count": 19,
   "id": "3430785e",
   "metadata": {},
   "outputs": [
    {
     "name": "stdout",
     "output_type": "stream",
     "text": [
      "'data.frame':\t1072876 obs. of  12 variables:\n",
      " $ Crime.ID             : chr  \"d7184bda9365b4c4af9838f13e1daa24e98c0aa40eab396399156b72867eb8c5\" \"\" \"\" \"\" ...\n",
      " $ Month                : Date, format: \"2021-01-01\" \"2021-01-01\" ...\n",
      " $ Reported.by          : chr  \"Metropolitan Police Service\" \"Metropolitan Police Service\" \"Metropolitan Police Service\" \"Metropolitan Police Service\" ...\n",
      " $ Falls.within         : chr  \"Metropolitan Police Service\" \"Metropolitan Police Service\" \"Metropolitan Police Service\" \"Metropolitan Police Service\" ...\n",
      " $ Longitude            : num  0.88 0.14 0.135 0.146 0.135 ...\n",
      " $ Latitude             : num  51.2 51.6 51.6 51.6 51.6 ...\n",
      " $ Location             : chr  \"On or near Buck Street\" \"On or near Hatch Grove\" \"On or near Mead Grove\" \"On or near Providence Place\" ...\n",
      " $ LSOA.code            : chr  \"E01023989\" \"E01000027\" \"E01000027\" \"E01000027\" ...\n",
      " $ LSOA.name            : chr  \"Ashford 002C\" \"Barking and Dagenham 001A\" \"Barking and Dagenham 001A\" \"Barking and Dagenham 001A\" ...\n",
      " $ Crime.type           : chr  \"Violence and sexual offences\" \"Anti-social behaviour\" \"Anti-social behaviour\" \"Anti-social behaviour\" ...\n",
      " $ Last.outcome.category: chr  \"Status update unavailable\" \"\" \"\" \"\" ...\n",
      " $ Context              : logi  NA NA NA NA NA NA ...\n"
     ]
    }
   ],
   "source": [
    "## The data frame\n",
    "str(df2021) #new df, with DATES!"
   ]
  },
  {
   "cell_type": "code",
   "execution_count": 20,
   "id": "c8811d4c",
   "metadata": {},
   "outputs": [],
   "source": [
    "## Data Cleaning\n",
    "\n",
    "#We want to remove lat lon fields with NAs\n",
    "df2021 <- df2021[!is.na(df2021$Longitude)&!is.na(df2021$Latitude),]"
   ]
  },
  {
   "cell_type": "code",
   "execution_count": 22,
   "id": "a7d770c3",
   "metadata": {},
   "outputs": [
    {
     "name": "stdout",
     "output_type": "stream",
     "text": [
      "'data.frame':\t1057667 obs. of  12 variables:\n",
      " $ Crime.ID             : chr  \"d7184bda9365b4c4af9838f13e1daa24e98c0aa40eab396399156b72867eb8c5\" \"\" \"\" \"\" ...\n",
      " $ Month                : Date, format: \"2021-01-01\" \"2021-01-01\" ...\n",
      " $ Reported.by          : chr  \"Metropolitan Police Service\" \"Metropolitan Police Service\" \"Metropolitan Police Service\" \"Metropolitan Police Service\" ...\n",
      " $ Falls.within         : chr  \"Metropolitan Police Service\" \"Metropolitan Police Service\" \"Metropolitan Police Service\" \"Metropolitan Police Service\" ...\n",
      " $ Longitude            : num  0.88 0.14 0.135 0.146 0.135 ...\n",
      " $ Latitude             : num  51.2 51.6 51.6 51.6 51.6 ...\n",
      " $ Location             : chr  \"On or near Buck Street\" \"On or near Hatch Grove\" \"On or near Mead Grove\" \"On or near Providence Place\" ...\n",
      " $ LSOA.code            : chr  \"E01023989\" \"E01000027\" \"E01000027\" \"E01000027\" ...\n",
      " $ LSOA.name            : chr  \"Ashford 002C\" \"Barking and Dagenham 001A\" \"Barking and Dagenham 001A\" \"Barking and Dagenham 001A\" ...\n",
      " $ Crime.type           : chr  \"Violence and sexual offences\" \"Anti-social behaviour\" \"Anti-social behaviour\" \"Anti-social behaviour\" ...\n",
      " $ Last.outcome.category: chr  \"Status update unavailable\" \"\" \"\" \"\" ...\n",
      " $ Context              : logi  NA NA NA NA NA NA ...\n"
     ]
    }
   ],
   "source": [
    "#from 'data.frame':\t1072876 obs. of  12 variables   to   'data.frame':\t1057667 obs. of  12 variables:\n",
    "str(df2021)"
   ]
  },
  {
   "cell_type": "code",
   "execution_count": 23,
   "id": "7418a9dd",
   "metadata": {},
   "outputs": [
    {
     "data": {
      "text/html": [
       "'15209 fields were removed by eliminating fields without latitude and longitude'"
      ],
      "text/latex": [
       "'15209 fields were removed by eliminating fields without latitude and longitude'"
      ],
      "text/markdown": [
       "'15209 fields were removed by eliminating fields without latitude and longitude'"
      ],
      "text/plain": [
       "[1] \"15209 fields were removed by eliminating fields without latitude and longitude\""
      ]
     },
     "metadata": {},
     "output_type": "display_data"
    }
   ],
   "source": [
    "a <- 1072876-1057667\n",
    "sprintf('%s fields were removed by eliminating fields without latitude and longitude',a)"
   ]
  },
  {
   "cell_type": "markdown",
   "id": "71e9f21c",
   "metadata": {},
   "source": [
    "### Analysis\n",
    "\n",
    "Load libraries:\n",
    "- sp\n",
    "- raster\n",
    "- spatstat\n",
    "- maptools\n",
    "- plotricx"
   ]
  },
  {
   "cell_type": "code",
   "execution_count": null,
   "id": "211fc043",
   "metadata": {
    "scrolled": false
   },
   "outputs": [],
   "source": [
    "library(sp)\n",
    "library(raster)\n",
    "library(spatstat)\n",
    "library(maptools)\n",
    "library(plotrix)\n",
    "library(gstat)"
   ]
  },
  {
   "cell_type": "code",
   "execution_count": null,
   "id": "e0d020af",
   "metadata": {},
   "outputs": [],
   "source": [
    "#Turn data.frame into Spatial Object \n",
    "coordinates(df2021)=~Longitude+Latitude "
   ]
  },
  {
   "cell_type": "code",
   "execution_count": null,
   "id": "5891e8e1",
   "metadata": {},
   "outputs": [],
   "source": [
    "#for checking duplicated locations\n",
    "zero <- zerodist(df2021)"
   ]
  },
  {
   "cell_type": "code",
   "execution_count": null,
   "id": "0d5ad359",
   "metadata": {},
   "outputs": [],
   "source": [
    "print(length(unique(zero[,1])))"
   ]
  },
  {
   "cell_type": "code",
   "execution_count": null,
   "id": "e177b551",
   "metadata": {},
   "outputs": [],
   "source": [
    "class(df2021)"
   ]
  },
  {
   "cell_type": "code",
   "execution_count": null,
   "id": "08c335c5",
   "metadata": {},
   "outputs": [],
   "source": []
  }
 ],
 "metadata": {
  "kernelspec": {
   "display_name": "R",
   "language": "R",
   "name": "ir"
  },
  "language_info": {
   "codemirror_mode": "r",
   "file_extension": ".r",
   "mimetype": "text/x-r-source",
   "name": "R",
   "pygments_lexer": "r",
   "version": "4.0.5"
  }
 },
 "nbformat": 4,
 "nbformat_minor": 5
}
