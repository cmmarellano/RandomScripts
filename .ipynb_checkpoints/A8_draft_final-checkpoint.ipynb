{
 "cells": [
  {
   "cell_type": "code",
   "execution_count": 51,
   "id": "b444d134",
   "metadata": {},
   "outputs": [],
   "source": [
    "df00 <- read.csv(\"data/2021-01-metropolitan-street.csv\",stringsAsFactors = FALSE)"
   ]
  },
  {
   "cell_type": "code",
   "execution_count": 52,
   "id": "6f377a59",
   "metadata": {},
   "outputs": [
    {
     "data": {
      "text/html": [
       "<table class=\"dataframe\">\n",
       "<caption>A data.frame: 6 × 12</caption>\n",
       "<thead>\n",
       "\t<tr><th></th><th scope=col>Crime.ID</th><th scope=col>Month</th><th scope=col>Reported.by</th><th scope=col>Falls.within</th><th scope=col>Longitude</th><th scope=col>Latitude</th><th scope=col>Location</th><th scope=col>LSOA.code</th><th scope=col>LSOA.name</th><th scope=col>Crime.type</th><th scope=col>Last.outcome.category</th><th scope=col>Context</th></tr>\n",
       "\t<tr><th></th><th scope=col>&lt;chr&gt;</th><th scope=col>&lt;chr&gt;</th><th scope=col>&lt;chr&gt;</th><th scope=col>&lt;chr&gt;</th><th scope=col>&lt;dbl&gt;</th><th scope=col>&lt;dbl&gt;</th><th scope=col>&lt;chr&gt;</th><th scope=col>&lt;chr&gt;</th><th scope=col>&lt;chr&gt;</th><th scope=col>&lt;chr&gt;</th><th scope=col>&lt;chr&gt;</th><th scope=col>&lt;lgl&gt;</th></tr>\n",
       "</thead>\n",
       "<tbody>\n",
       "\t<tr><th scope=row>1</th><td>d7184bda9365b4c4af9838f13e1daa24e98c0aa40eab396399156b72867eb8c5</td><td>1/1/2021</td><td>Metropolitan Police Service</td><td>Metropolitan Police Service</td><td>0.880386</td><td>51.21919</td><td>On or near Buck Street     </td><td>E01023989</td><td>Ashford 002C             </td><td>Violence and sexual offences</td><td>Status update unavailable</td><td>NA</td></tr>\n",
       "\t<tr><th scope=row>2</th><td>                                                                </td><td>1/1/2021</td><td>Metropolitan Police Service</td><td>Metropolitan Police Service</td><td>0.140192</td><td>51.58231</td><td>On or near Hatch Grove     </td><td>E01000027</td><td>Barking and Dagenham 001A</td><td>Anti-social behaviour       </td><td>                         </td><td>NA</td></tr>\n",
       "\t<tr><th scope=row>3</th><td>                                                                </td><td>1/1/2021</td><td>Metropolitan Police Service</td><td>Metropolitan Police Service</td><td>0.134947</td><td>51.58806</td><td>On or near Mead Grove      </td><td>E01000027</td><td>Barking and Dagenham 001A</td><td>Anti-social behaviour       </td><td>                         </td><td>NA</td></tr>\n",
       "\t<tr><th scope=row>4</th><td>                                                                </td><td>1/1/2021</td><td>Metropolitan Police Service</td><td>Metropolitan Police Service</td><td>0.145888</td><td>51.59383</td><td>On or near Providence Place</td><td>E01000027</td><td>Barking and Dagenham 001A</td><td>Anti-social behaviour       </td><td>                         </td><td>NA</td></tr>\n",
       "\t<tr><th scope=row>5</th><td>                                                                </td><td>1/1/2021</td><td>Metropolitan Police Service</td><td>Metropolitan Police Service</td><td>0.134947</td><td>51.58806</td><td>On or near Mead Grove      </td><td>E01000027</td><td>Barking and Dagenham 001A</td><td>Anti-social behaviour       </td><td>                         </td><td>NA</td></tr>\n",
       "\t<tr><th scope=row>6</th><td>                                                                </td><td>1/1/2021</td><td>Metropolitan Police Service</td><td>Metropolitan Police Service</td><td>0.141143</td><td>51.59087</td><td>On or near Furze Farm Close</td><td>E01000027</td><td>Barking and Dagenham 001A</td><td>Anti-social behaviour       </td><td>                         </td><td>NA</td></tr>\n",
       "</tbody>\n",
       "</table>\n"
      ],
      "text/latex": [
       "A data.frame: 6 × 12\n",
       "\\begin{tabular}{r|llllllllllll}\n",
       "  & Crime.ID & Month & Reported.by & Falls.within & Longitude & Latitude & Location & LSOA.code & LSOA.name & Crime.type & Last.outcome.category & Context\\\\\n",
       "  & <chr> & <chr> & <chr> & <chr> & <dbl> & <dbl> & <chr> & <chr> & <chr> & <chr> & <chr> & <lgl>\\\\\n",
       "\\hline\n",
       "\t1 & d7184bda9365b4c4af9838f13e1daa24e98c0aa40eab396399156b72867eb8c5 & 1/1/2021 & Metropolitan Police Service & Metropolitan Police Service & 0.880386 & 51.21919 & On or near Buck Street      & E01023989 & Ashford 002C              & Violence and sexual offences & Status update unavailable & NA\\\\\n",
       "\t2 &                                                                  & 1/1/2021 & Metropolitan Police Service & Metropolitan Police Service & 0.140192 & 51.58231 & On or near Hatch Grove      & E01000027 & Barking and Dagenham 001A & Anti-social behaviour        &                           & NA\\\\\n",
       "\t3 &                                                                  & 1/1/2021 & Metropolitan Police Service & Metropolitan Police Service & 0.134947 & 51.58806 & On or near Mead Grove       & E01000027 & Barking and Dagenham 001A & Anti-social behaviour        &                           & NA\\\\\n",
       "\t4 &                                                                  & 1/1/2021 & Metropolitan Police Service & Metropolitan Police Service & 0.145888 & 51.59383 & On or near Providence Place & E01000027 & Barking and Dagenham 001A & Anti-social behaviour        &                           & NA\\\\\n",
       "\t5 &                                                                  & 1/1/2021 & Metropolitan Police Service & Metropolitan Police Service & 0.134947 & 51.58806 & On or near Mead Grove       & E01000027 & Barking and Dagenham 001A & Anti-social behaviour        &                           & NA\\\\\n",
       "\t6 &                                                                  & 1/1/2021 & Metropolitan Police Service & Metropolitan Police Service & 0.141143 & 51.59087 & On or near Furze Farm Close & E01000027 & Barking and Dagenham 001A & Anti-social behaviour        &                           & NA\\\\\n",
       "\\end{tabular}\n"
      ],
      "text/markdown": [
       "\n",
       "A data.frame: 6 × 12\n",
       "\n",
       "| <!--/--> | Crime.ID &lt;chr&gt; | Month &lt;chr&gt; | Reported.by &lt;chr&gt; | Falls.within &lt;chr&gt; | Longitude &lt;dbl&gt; | Latitude &lt;dbl&gt; | Location &lt;chr&gt; | LSOA.code &lt;chr&gt; | LSOA.name &lt;chr&gt; | Crime.type &lt;chr&gt; | Last.outcome.category &lt;chr&gt; | Context &lt;lgl&gt; |\n",
       "|---|---|---|---|---|---|---|---|---|---|---|---|---|\n",
       "| 1 | d7184bda9365b4c4af9838f13e1daa24e98c0aa40eab396399156b72867eb8c5 | 1/1/2021 | Metropolitan Police Service | Metropolitan Police Service | 0.880386 | 51.21919 | On or near Buck Street      | E01023989 | Ashford 002C              | Violence and sexual offences | Status update unavailable | NA |\n",
       "| 2 | <!----> | 1/1/2021 | Metropolitan Police Service | Metropolitan Police Service | 0.140192 | 51.58231 | On or near Hatch Grove      | E01000027 | Barking and Dagenham 001A | Anti-social behaviour        | <!----> | NA |\n",
       "| 3 | <!----> | 1/1/2021 | Metropolitan Police Service | Metropolitan Police Service | 0.134947 | 51.58806 | On or near Mead Grove       | E01000027 | Barking and Dagenham 001A | Anti-social behaviour        | <!----> | NA |\n",
       "| 4 | <!----> | 1/1/2021 | Metropolitan Police Service | Metropolitan Police Service | 0.145888 | 51.59383 | On or near Providence Place | E01000027 | Barking and Dagenham 001A | Anti-social behaviour        | <!----> | NA |\n",
       "| 5 | <!----> | 1/1/2021 | Metropolitan Police Service | Metropolitan Police Service | 0.134947 | 51.58806 | On or near Mead Grove       | E01000027 | Barking and Dagenham 001A | Anti-social behaviour        | <!----> | NA |\n",
       "| 6 | <!----> | 1/1/2021 | Metropolitan Police Service | Metropolitan Police Service | 0.141143 | 51.59087 | On or near Furze Farm Close | E01000027 | Barking and Dagenham 001A | Anti-social behaviour        | <!----> | NA |\n",
       "\n"
      ],
      "text/plain": [
       "  Crime.ID                                                         Month   \n",
       "1 d7184bda9365b4c4af9838f13e1daa24e98c0aa40eab396399156b72867eb8c5 1/1/2021\n",
       "2                                                                  1/1/2021\n",
       "3                                                                  1/1/2021\n",
       "4                                                                  1/1/2021\n",
       "5                                                                  1/1/2021\n",
       "6                                                                  1/1/2021\n",
       "  Reported.by                 Falls.within                Longitude Latitude\n",
       "1 Metropolitan Police Service Metropolitan Police Service 0.880386  51.21919\n",
       "2 Metropolitan Police Service Metropolitan Police Service 0.140192  51.58231\n",
       "3 Metropolitan Police Service Metropolitan Police Service 0.134947  51.58806\n",
       "4 Metropolitan Police Service Metropolitan Police Service 0.145888  51.59383\n",
       "5 Metropolitan Police Service Metropolitan Police Service 0.134947  51.58806\n",
       "6 Metropolitan Police Service Metropolitan Police Service 0.141143  51.59087\n",
       "  Location                    LSOA.code LSOA.name                \n",
       "1 On or near Buck Street      E01023989 Ashford 002C             \n",
       "2 On or near Hatch Grove      E01000027 Barking and Dagenham 001A\n",
       "3 On or near Mead Grove       E01000027 Barking and Dagenham 001A\n",
       "4 On or near Providence Place E01000027 Barking and Dagenham 001A\n",
       "5 On or near Mead Grove       E01000027 Barking and Dagenham 001A\n",
       "6 On or near Furze Farm Close E01000027 Barking and Dagenham 001A\n",
       "  Crime.type                   Last.outcome.category     Context\n",
       "1 Violence and sexual offences Status update unavailable NA     \n",
       "2 Anti-social behaviour                                  NA     \n",
       "3 Anti-social behaviour                                  NA     \n",
       "4 Anti-social behaviour                                  NA     \n",
       "5 Anti-social behaviour                                  NA     \n",
       "6 Anti-social behaviour                                  NA     "
      ]
     },
     "metadata": {},
     "output_type": "display_data"
    }
   ],
   "source": [
    "head(df00)"
   ]
  },
  {
   "cell_type": "code",
   "execution_count": 53,
   "id": "0418e5b3",
   "metadata": {},
   "outputs": [
    {
     "data": {
      "text/html": [
       "<table class=\"dataframe\">\n",
       "<caption>A data.frame: 6 × 12</caption>\n",
       "<thead>\n",
       "\t<tr><th></th><th scope=col>Crime.ID</th><th scope=col>Month</th><th scope=col>Reported.by</th><th scope=col>Falls.within</th><th scope=col>Longitude</th><th scope=col>Latitude</th><th scope=col>Location</th><th scope=col>LSOA.code</th><th scope=col>LSOA.name</th><th scope=col>Crime.type</th><th scope=col>Last.outcome.category</th><th scope=col>Context</th></tr>\n",
       "\t<tr><th></th><th scope=col>&lt;chr&gt;</th><th scope=col>&lt;chr&gt;</th><th scope=col>&lt;chr&gt;</th><th scope=col>&lt;chr&gt;</th><th scope=col>&lt;dbl&gt;</th><th scope=col>&lt;dbl&gt;</th><th scope=col>&lt;chr&gt;</th><th scope=col>&lt;chr&gt;</th><th scope=col>&lt;chr&gt;</th><th scope=col>&lt;chr&gt;</th><th scope=col>&lt;chr&gt;</th><th scope=col>&lt;lgl&gt;</th></tr>\n",
       "</thead>\n",
       "<tbody>\n",
       "\t<tr><th scope=row>84843</th><td>701012862cab68d9e6481ee2b5082ac97eb1cdd22a20d0fe98f42bc7df839ccd</td><td>1/1/2021</td><td>Metropolitan Police Service</td><td>Metropolitan Police Service</td><td>NA</td><td>NA</td><td>No Location</td><td></td><td></td><td>Violence and sexual offences</td><td>Investigation complete   </td><td>NA</td></tr>\n",
       "\t<tr><th scope=row>84844</th><td>884fb73a6deaba5aaf4dbc09e416c32ba88715a0b77754378c2c27c8e4f390f3</td><td>1/1/2021</td><td>Metropolitan Police Service</td><td>Metropolitan Police Service</td><td>NA</td><td>NA</td><td>No Location</td><td></td><td></td><td>Other crime                 </td><td>Court result unavailable </td><td>NA</td></tr>\n",
       "\t<tr><th scope=row>84845</th><td>fbf7d573eb11a056d3693a31d65c37644a0c0a30fbdada079563de2289b2ee3a</td><td>1/1/2021</td><td>Metropolitan Police Service</td><td>Metropolitan Police Service</td><td>NA</td><td>NA</td><td>No Location</td><td></td><td></td><td>Other crime                 </td><td>Status update unavailable</td><td>NA</td></tr>\n",
       "\t<tr><th scope=row>84846</th><td>7cbc461d06fc1465ec9c8a7662ab47a55ee33921b188b5a02bb84c8eb552006b</td><td>1/1/2021</td><td>Metropolitan Police Service</td><td>Metropolitan Police Service</td><td>NA</td><td>NA</td><td>No Location</td><td></td><td></td><td>Other crime                 </td><td>Investigation complete   </td><td>NA</td></tr>\n",
       "\t<tr><th scope=row>84847</th><td>89df62aaba391a72413d8dd5458968a40a84664e2684275d58f926348e4b332d</td><td>1/1/2021</td><td>Metropolitan Police Service</td><td>Metropolitan Police Service</td><td>NA</td><td>NA</td><td>No Location</td><td></td><td></td><td>Other crime                 </td><td>Investigation complete   </td><td>NA</td></tr>\n",
       "\t<tr><th scope=row>84848</th><td>fbf7d573eb11a056d3693a31d65c37644a0c0a30fbdada079563de2289b2ee3a</td><td>1/1/2021</td><td>Metropolitan Police Service</td><td>Metropolitan Police Service</td><td>NA</td><td>NA</td><td>No Location</td><td></td><td></td><td>Other crime                 </td><td>Investigation complete   </td><td>NA</td></tr>\n",
       "</tbody>\n",
       "</table>\n"
      ],
      "text/latex": [
       "A data.frame: 6 × 12\n",
       "\\begin{tabular}{r|llllllllllll}\n",
       "  & Crime.ID & Month & Reported.by & Falls.within & Longitude & Latitude & Location & LSOA.code & LSOA.name & Crime.type & Last.outcome.category & Context\\\\\n",
       "  & <chr> & <chr> & <chr> & <chr> & <dbl> & <dbl> & <chr> & <chr> & <chr> & <chr> & <chr> & <lgl>\\\\\n",
       "\\hline\n",
       "\t84843 & 701012862cab68d9e6481ee2b5082ac97eb1cdd22a20d0fe98f42bc7df839ccd & 1/1/2021 & Metropolitan Police Service & Metropolitan Police Service & NA & NA & No Location &  &  & Violence and sexual offences & Investigation complete    & NA\\\\\n",
       "\t84844 & 884fb73a6deaba5aaf4dbc09e416c32ba88715a0b77754378c2c27c8e4f390f3 & 1/1/2021 & Metropolitan Police Service & Metropolitan Police Service & NA & NA & No Location &  &  & Other crime                  & Court result unavailable  & NA\\\\\n",
       "\t84845 & fbf7d573eb11a056d3693a31d65c37644a0c0a30fbdada079563de2289b2ee3a & 1/1/2021 & Metropolitan Police Service & Metropolitan Police Service & NA & NA & No Location &  &  & Other crime                  & Status update unavailable & NA\\\\\n",
       "\t84846 & 7cbc461d06fc1465ec9c8a7662ab47a55ee33921b188b5a02bb84c8eb552006b & 1/1/2021 & Metropolitan Police Service & Metropolitan Police Service & NA & NA & No Location &  &  & Other crime                  & Investigation complete    & NA\\\\\n",
       "\t84847 & 89df62aaba391a72413d8dd5458968a40a84664e2684275d58f926348e4b332d & 1/1/2021 & Metropolitan Police Service & Metropolitan Police Service & NA & NA & No Location &  &  & Other crime                  & Investigation complete    & NA\\\\\n",
       "\t84848 & fbf7d573eb11a056d3693a31d65c37644a0c0a30fbdada079563de2289b2ee3a & 1/1/2021 & Metropolitan Police Service & Metropolitan Police Service & NA & NA & No Location &  &  & Other crime                  & Investigation complete    & NA\\\\\n",
       "\\end{tabular}\n"
      ],
      "text/markdown": [
       "\n",
       "A data.frame: 6 × 12\n",
       "\n",
       "| <!--/--> | Crime.ID &lt;chr&gt; | Month &lt;chr&gt; | Reported.by &lt;chr&gt; | Falls.within &lt;chr&gt; | Longitude &lt;dbl&gt; | Latitude &lt;dbl&gt; | Location &lt;chr&gt; | LSOA.code &lt;chr&gt; | LSOA.name &lt;chr&gt; | Crime.type &lt;chr&gt; | Last.outcome.category &lt;chr&gt; | Context &lt;lgl&gt; |\n",
       "|---|---|---|---|---|---|---|---|---|---|---|---|---|\n",
       "| 84843 | 701012862cab68d9e6481ee2b5082ac97eb1cdd22a20d0fe98f42bc7df839ccd | 1/1/2021 | Metropolitan Police Service | Metropolitan Police Service | NA | NA | No Location | <!----> | <!----> | Violence and sexual offences | Investigation complete    | NA |\n",
       "| 84844 | 884fb73a6deaba5aaf4dbc09e416c32ba88715a0b77754378c2c27c8e4f390f3 | 1/1/2021 | Metropolitan Police Service | Metropolitan Police Service | NA | NA | No Location | <!----> | <!----> | Other crime                  | Court result unavailable  | NA |\n",
       "| 84845 | fbf7d573eb11a056d3693a31d65c37644a0c0a30fbdada079563de2289b2ee3a | 1/1/2021 | Metropolitan Police Service | Metropolitan Police Service | NA | NA | No Location | <!----> | <!----> | Other crime                  | Status update unavailable | NA |\n",
       "| 84846 | 7cbc461d06fc1465ec9c8a7662ab47a55ee33921b188b5a02bb84c8eb552006b | 1/1/2021 | Metropolitan Police Service | Metropolitan Police Service | NA | NA | No Location | <!----> | <!----> | Other crime                  | Investigation complete    | NA |\n",
       "| 84847 | 89df62aaba391a72413d8dd5458968a40a84664e2684275d58f926348e4b332d | 1/1/2021 | Metropolitan Police Service | Metropolitan Police Service | NA | NA | No Location | <!----> | <!----> | Other crime                  | Investigation complete    | NA |\n",
       "| 84848 | fbf7d573eb11a056d3693a31d65c37644a0c0a30fbdada079563de2289b2ee3a | 1/1/2021 | Metropolitan Police Service | Metropolitan Police Service | NA | NA | No Location | <!----> | <!----> | Other crime                  | Investigation complete    | NA |\n",
       "\n"
      ],
      "text/plain": [
       "      Crime.ID                                                         Month   \n",
       "84843 701012862cab68d9e6481ee2b5082ac97eb1cdd22a20d0fe98f42bc7df839ccd 1/1/2021\n",
       "84844 884fb73a6deaba5aaf4dbc09e416c32ba88715a0b77754378c2c27c8e4f390f3 1/1/2021\n",
       "84845 fbf7d573eb11a056d3693a31d65c37644a0c0a30fbdada079563de2289b2ee3a 1/1/2021\n",
       "84846 7cbc461d06fc1465ec9c8a7662ab47a55ee33921b188b5a02bb84c8eb552006b 1/1/2021\n",
       "84847 89df62aaba391a72413d8dd5458968a40a84664e2684275d58f926348e4b332d 1/1/2021\n",
       "84848 fbf7d573eb11a056d3693a31d65c37644a0c0a30fbdada079563de2289b2ee3a 1/1/2021\n",
       "      Reported.by                 Falls.within                Longitude\n",
       "84843 Metropolitan Police Service Metropolitan Police Service NA       \n",
       "84844 Metropolitan Police Service Metropolitan Police Service NA       \n",
       "84845 Metropolitan Police Service Metropolitan Police Service NA       \n",
       "84846 Metropolitan Police Service Metropolitan Police Service NA       \n",
       "84847 Metropolitan Police Service Metropolitan Police Service NA       \n",
       "84848 Metropolitan Police Service Metropolitan Police Service NA       \n",
       "      Latitude Location    LSOA.code LSOA.name Crime.type                  \n",
       "84843 NA       No Location                     Violence and sexual offences\n",
       "84844 NA       No Location                     Other crime                 \n",
       "84845 NA       No Location                     Other crime                 \n",
       "84846 NA       No Location                     Other crime                 \n",
       "84847 NA       No Location                     Other crime                 \n",
       "84848 NA       No Location                     Other crime                 \n",
       "      Last.outcome.category     Context\n",
       "84843 Investigation complete    NA     \n",
       "84844 Court result unavailable  NA     \n",
       "84845 Status update unavailable NA     \n",
       "84846 Investigation complete    NA     \n",
       "84847 Investigation complete    NA     \n",
       "84848 Investigation complete    NA     "
      ]
     },
     "metadata": {},
     "output_type": "display_data"
    }
   ],
   "source": [
    "tail(df00)"
   ]
  },
  {
   "cell_type": "code",
   "execution_count": 54,
   "id": "64ec3460",
   "metadata": {},
   "outputs": [
    {
     "data": {
      "text/html": [
       "'character'"
      ],
      "text/latex": [
       "'character'"
      ],
      "text/markdown": [
       "'character'"
      ],
      "text/plain": [
       "[1] \"character\""
      ]
     },
     "metadata": {},
     "output_type": "display_data"
    }
   ],
   "source": [
    "class(df00$Month)"
   ]
  },
  {
   "cell_type": "code",
   "execution_count": 56,
   "id": "c3cb2614",
   "metadata": {},
   "outputs": [
    {
     "data": {
      "text/html": [
       "<style>\n",
       ".list-inline {list-style: none; margin:0; padding: 0}\n",
       ".list-inline>li {display: inline-block}\n",
       ".list-inline>li:not(:last-child)::after {content: \"\\00b7\"; padding: 0 .5ex}\n",
       "</style>\n",
       "<ol class=list-inline><li>'1/1/2021'</li><li>'1/1/2021'</li><li>'1/1/2021'</li><li>'1/1/2021'</li><li>'1/1/2021'</li><li>'1/1/2021'</li></ol>\n"
      ],
      "text/latex": [
       "\\begin{enumerate*}\n",
       "\\item '1/1/2021'\n",
       "\\item '1/1/2021'\n",
       "\\item '1/1/2021'\n",
       "\\item '1/1/2021'\n",
       "\\item '1/1/2021'\n",
       "\\item '1/1/2021'\n",
       "\\end{enumerate*}\n"
      ],
      "text/markdown": [
       "1. '1/1/2021'\n",
       "2. '1/1/2021'\n",
       "3. '1/1/2021'\n",
       "4. '1/1/2021'\n",
       "5. '1/1/2021'\n",
       "6. '1/1/2021'\n",
       "\n",
       "\n"
      ],
      "text/plain": [
       "[1] \"1/1/2021\" \"1/1/2021\" \"1/1/2021\" \"1/1/2021\" \"1/1/2021\" \"1/1/2021\""
      ]
     },
     "metadata": {},
     "output_type": "display_data"
    }
   ],
   "source": [
    "head(df00$Month)"
   ]
  },
  {
   "cell_type": "code",
   "execution_count": 57,
   "id": "820278d6",
   "metadata": {},
   "outputs": [],
   "source": [
    "df00$Month <- as.Date(df00$Month, format=\"%d/%m/%Y\")"
   ]
  },
  {
   "cell_type": "code",
   "execution_count": 58,
   "id": "4cee75de",
   "metadata": {},
   "outputs": [
    {
     "data": {
      "text/html": [
       "'Date'"
      ],
      "text/latex": [
       "'Date'"
      ],
      "text/markdown": [
       "'Date'"
      ],
      "text/plain": [
       "[1] \"Date\""
      ]
     },
     "metadata": {},
     "output_type": "display_data"
    }
   ],
   "source": [
    "class(df00$Month)"
   ]
  },
  {
   "cell_type": "code",
   "execution_count": 59,
   "id": "00fb357d",
   "metadata": {},
   "outputs": [
    {
     "data": {
      "text/html": [
       "<style>\n",
       ".list-inline {list-style: none; margin:0; padding: 0}\n",
       ".list-inline>li {display: inline-block}\n",
       ".list-inline>li:not(:last-child)::after {content: \"\\00b7\"; padding: 0 .5ex}\n",
       "</style>\n",
       "<ol class=list-inline><li><time datetime=\"2021-01-01\">2021-01-01</time></li><li><time datetime=\"2021-01-01\">2021-01-01</time></li><li><time datetime=\"2021-01-01\">2021-01-01</time></li><li><time datetime=\"2021-01-01\">2021-01-01</time></li><li><time datetime=\"2021-01-01\">2021-01-01</time></li><li><time datetime=\"2021-01-01\">2021-01-01</time></li></ol>\n"
      ],
      "text/latex": [
       "\\begin{enumerate*}\n",
       "\\item 2021-01-01\n",
       "\\item 2021-01-01\n",
       "\\item 2021-01-01\n",
       "\\item 2021-01-01\n",
       "\\item 2021-01-01\n",
       "\\item 2021-01-01\n",
       "\\end{enumerate*}\n"
      ],
      "text/markdown": [
       "1. 2021-01-01\n",
       "2. 2021-01-01\n",
       "3. 2021-01-01\n",
       "4. 2021-01-01\n",
       "5. 2021-01-01\n",
       "6. 2021-01-01\n",
       "\n",
       "\n"
      ],
      "text/plain": [
       "[1] \"2021-01-01\" \"2021-01-01\" \"2021-01-01\" \"2021-01-01\" \"2021-01-01\"\n",
       "[6] \"2021-01-01\""
      ]
     },
     "metadata": {},
     "output_type": "display_data"
    }
   ],
   "source": [
    "head(df00$Month)"
   ]
  },
  {
   "cell_type": "code",
   "execution_count": 13,
   "id": "e00b0344",
   "metadata": {},
   "outputs": [],
   "source": [
    "df1 <- read.csv(\"data/2021-01-metropolitan-street.csv\", stringsAsFactors = FALSE)\n",
    "df2 <- read.csv(\"data/2021-02-metropolitan-street.csv\", stringsAsFactors = FALSE)\n",
    "df3 <- read.csv(\"data/2021-03-metropolitan-street.csv\", stringsAsFactors = FALSE)\n",
    "df4 <- read.csv(\"data/2021-04-metropolitan-street.csv\", stringsAsFactors = FALSE)\n",
    "df5 <- read.csv(\"data/2021-05-metropolitan-street.csv\", stringsAsFactors = FALSE)\n",
    "df6 <- read.csv(\"data/2021-06-metropolitan-street.csv\", stringsAsFactors = FALSE)\n",
    "df7 <- read.csv(\"data/2021-07-metropolitan-street.csv\", stringsAsFactors = FALSE)\n",
    "df8 <- read.csv(\"data/2021-08-metropolitan-street.csv\", stringsAsFactors = FALSE)\n",
    "df9 <- read.csv(\"data/2021-09-metropolitan-street.csv\", stringsAsFactors = FALSE)\n",
    "df10 <- read.csv(\"data/2021-10-metropolitan-street.csv\", stringsAsFactors = FALSE)\n",
    "df11 <- read.csv(\"data/2021-11-metropolitan-street.csv\", stringsAsFactors = FALSE)\n",
    "df12 <- read.csv(\"data/2021-12-metropolitan-street.csv\", stringsAsFactors = FALSE)"
   ]
  },
  {
   "cell_type": "code",
   "execution_count": 14,
   "id": "1c501761",
   "metadata": {},
   "outputs": [],
   "source": [
    "df2021<- rbind(df1,df2,df3,df4,df5,df6,df7,df8,df9,df10,df11,df12)"
   ]
  },
  {
   "cell_type": "code",
   "execution_count": 15,
   "id": "a447f28b",
   "metadata": {},
   "outputs": [
    {
     "data": {
      "text/html": [
       "<table class=\"dataframe\">\n",
       "<caption>A data.frame: 6 × 12</caption>\n",
       "<thead>\n",
       "\t<tr><th></th><th scope=col>Crime.ID</th><th scope=col>Month</th><th scope=col>Reported.by</th><th scope=col>Falls.within</th><th scope=col>Longitude</th><th scope=col>Latitude</th><th scope=col>Location</th><th scope=col>LSOA.code</th><th scope=col>LSOA.name</th><th scope=col>Crime.type</th><th scope=col>Last.outcome.category</th><th scope=col>Context</th></tr>\n",
       "\t<tr><th></th><th scope=col>&lt;chr&gt;</th><th scope=col>&lt;chr&gt;</th><th scope=col>&lt;chr&gt;</th><th scope=col>&lt;chr&gt;</th><th scope=col>&lt;dbl&gt;</th><th scope=col>&lt;dbl&gt;</th><th scope=col>&lt;chr&gt;</th><th scope=col>&lt;chr&gt;</th><th scope=col>&lt;chr&gt;</th><th scope=col>&lt;chr&gt;</th><th scope=col>&lt;chr&gt;</th><th scope=col>&lt;lgl&gt;</th></tr>\n",
       "</thead>\n",
       "<tbody>\n",
       "\t<tr><th scope=row>1</th><td>d7184bda9365b4c4af9838f13e1daa24e98c0aa40eab396399156b72867eb8c5</td><td>1/1/2021</td><td>Metropolitan Police Service</td><td>Metropolitan Police Service</td><td>0.880386</td><td>51.21919</td><td>On or near Buck Street     </td><td>E01023989</td><td>Ashford 002C             </td><td>Violence and sexual offences</td><td>Status update unavailable</td><td>NA</td></tr>\n",
       "\t<tr><th scope=row>2</th><td>                                                                </td><td>1/1/2021</td><td>Metropolitan Police Service</td><td>Metropolitan Police Service</td><td>0.140192</td><td>51.58231</td><td>On or near Hatch Grove     </td><td>E01000027</td><td>Barking and Dagenham 001A</td><td>Anti-social behaviour       </td><td>                         </td><td>NA</td></tr>\n",
       "\t<tr><th scope=row>3</th><td>                                                                </td><td>1/1/2021</td><td>Metropolitan Police Service</td><td>Metropolitan Police Service</td><td>0.134947</td><td>51.58806</td><td>On or near Mead Grove      </td><td>E01000027</td><td>Barking and Dagenham 001A</td><td>Anti-social behaviour       </td><td>                         </td><td>NA</td></tr>\n",
       "\t<tr><th scope=row>4</th><td>                                                                </td><td>1/1/2021</td><td>Metropolitan Police Service</td><td>Metropolitan Police Service</td><td>0.145888</td><td>51.59383</td><td>On or near Providence Place</td><td>E01000027</td><td>Barking and Dagenham 001A</td><td>Anti-social behaviour       </td><td>                         </td><td>NA</td></tr>\n",
       "\t<tr><th scope=row>5</th><td>                                                                </td><td>1/1/2021</td><td>Metropolitan Police Service</td><td>Metropolitan Police Service</td><td>0.134947</td><td>51.58806</td><td>On or near Mead Grove      </td><td>E01000027</td><td>Barking and Dagenham 001A</td><td>Anti-social behaviour       </td><td>                         </td><td>NA</td></tr>\n",
       "\t<tr><th scope=row>6</th><td>                                                                </td><td>1/1/2021</td><td>Metropolitan Police Service</td><td>Metropolitan Police Service</td><td>0.141143</td><td>51.59087</td><td>On or near Furze Farm Close</td><td>E01000027</td><td>Barking and Dagenham 001A</td><td>Anti-social behaviour       </td><td>                         </td><td>NA</td></tr>\n",
       "</tbody>\n",
       "</table>\n"
      ],
      "text/latex": [
       "A data.frame: 6 × 12\n",
       "\\begin{tabular}{r|llllllllllll}\n",
       "  & Crime.ID & Month & Reported.by & Falls.within & Longitude & Latitude & Location & LSOA.code & LSOA.name & Crime.type & Last.outcome.category & Context\\\\\n",
       "  & <chr> & <chr> & <chr> & <chr> & <dbl> & <dbl> & <chr> & <chr> & <chr> & <chr> & <chr> & <lgl>\\\\\n",
       "\\hline\n",
       "\t1 & d7184bda9365b4c4af9838f13e1daa24e98c0aa40eab396399156b72867eb8c5 & 1/1/2021 & Metropolitan Police Service & Metropolitan Police Service & 0.880386 & 51.21919 & On or near Buck Street      & E01023989 & Ashford 002C              & Violence and sexual offences & Status update unavailable & NA\\\\\n",
       "\t2 &                                                                  & 1/1/2021 & Metropolitan Police Service & Metropolitan Police Service & 0.140192 & 51.58231 & On or near Hatch Grove      & E01000027 & Barking and Dagenham 001A & Anti-social behaviour        &                           & NA\\\\\n",
       "\t3 &                                                                  & 1/1/2021 & Metropolitan Police Service & Metropolitan Police Service & 0.134947 & 51.58806 & On or near Mead Grove       & E01000027 & Barking and Dagenham 001A & Anti-social behaviour        &                           & NA\\\\\n",
       "\t4 &                                                                  & 1/1/2021 & Metropolitan Police Service & Metropolitan Police Service & 0.145888 & 51.59383 & On or near Providence Place & E01000027 & Barking and Dagenham 001A & Anti-social behaviour        &                           & NA\\\\\n",
       "\t5 &                                                                  & 1/1/2021 & Metropolitan Police Service & Metropolitan Police Service & 0.134947 & 51.58806 & On or near Mead Grove       & E01000027 & Barking and Dagenham 001A & Anti-social behaviour        &                           & NA\\\\\n",
       "\t6 &                                                                  & 1/1/2021 & Metropolitan Police Service & Metropolitan Police Service & 0.141143 & 51.59087 & On or near Furze Farm Close & E01000027 & Barking and Dagenham 001A & Anti-social behaviour        &                           & NA\\\\\n",
       "\\end{tabular}\n"
      ],
      "text/markdown": [
       "\n",
       "A data.frame: 6 × 12\n",
       "\n",
       "| <!--/--> | Crime.ID &lt;chr&gt; | Month &lt;chr&gt; | Reported.by &lt;chr&gt; | Falls.within &lt;chr&gt; | Longitude &lt;dbl&gt; | Latitude &lt;dbl&gt; | Location &lt;chr&gt; | LSOA.code &lt;chr&gt; | LSOA.name &lt;chr&gt; | Crime.type &lt;chr&gt; | Last.outcome.category &lt;chr&gt; | Context &lt;lgl&gt; |\n",
       "|---|---|---|---|---|---|---|---|---|---|---|---|---|\n",
       "| 1 | d7184bda9365b4c4af9838f13e1daa24e98c0aa40eab396399156b72867eb8c5 | 1/1/2021 | Metropolitan Police Service | Metropolitan Police Service | 0.880386 | 51.21919 | On or near Buck Street      | E01023989 | Ashford 002C              | Violence and sexual offences | Status update unavailable | NA |\n",
       "| 2 | <!----> | 1/1/2021 | Metropolitan Police Service | Metropolitan Police Service | 0.140192 | 51.58231 | On or near Hatch Grove      | E01000027 | Barking and Dagenham 001A | Anti-social behaviour        | <!----> | NA |\n",
       "| 3 | <!----> | 1/1/2021 | Metropolitan Police Service | Metropolitan Police Service | 0.134947 | 51.58806 | On or near Mead Grove       | E01000027 | Barking and Dagenham 001A | Anti-social behaviour        | <!----> | NA |\n",
       "| 4 | <!----> | 1/1/2021 | Metropolitan Police Service | Metropolitan Police Service | 0.145888 | 51.59383 | On or near Providence Place | E01000027 | Barking and Dagenham 001A | Anti-social behaviour        | <!----> | NA |\n",
       "| 5 | <!----> | 1/1/2021 | Metropolitan Police Service | Metropolitan Police Service | 0.134947 | 51.58806 | On or near Mead Grove       | E01000027 | Barking and Dagenham 001A | Anti-social behaviour        | <!----> | NA |\n",
       "| 6 | <!----> | 1/1/2021 | Metropolitan Police Service | Metropolitan Police Service | 0.141143 | 51.59087 | On or near Furze Farm Close | E01000027 | Barking and Dagenham 001A | Anti-social behaviour        | <!----> | NA |\n",
       "\n"
      ],
      "text/plain": [
       "  Crime.ID                                                         Month   \n",
       "1 d7184bda9365b4c4af9838f13e1daa24e98c0aa40eab396399156b72867eb8c5 1/1/2021\n",
       "2                                                                  1/1/2021\n",
       "3                                                                  1/1/2021\n",
       "4                                                                  1/1/2021\n",
       "5                                                                  1/1/2021\n",
       "6                                                                  1/1/2021\n",
       "  Reported.by                 Falls.within                Longitude Latitude\n",
       "1 Metropolitan Police Service Metropolitan Police Service 0.880386  51.21919\n",
       "2 Metropolitan Police Service Metropolitan Police Service 0.140192  51.58231\n",
       "3 Metropolitan Police Service Metropolitan Police Service 0.134947  51.58806\n",
       "4 Metropolitan Police Service Metropolitan Police Service 0.145888  51.59383\n",
       "5 Metropolitan Police Service Metropolitan Police Service 0.134947  51.58806\n",
       "6 Metropolitan Police Service Metropolitan Police Service 0.141143  51.59087\n",
       "  Location                    LSOA.code LSOA.name                \n",
       "1 On or near Buck Street      E01023989 Ashford 002C             \n",
       "2 On or near Hatch Grove      E01000027 Barking and Dagenham 001A\n",
       "3 On or near Mead Grove       E01000027 Barking and Dagenham 001A\n",
       "4 On or near Providence Place E01000027 Barking and Dagenham 001A\n",
       "5 On or near Mead Grove       E01000027 Barking and Dagenham 001A\n",
       "6 On or near Furze Farm Close E01000027 Barking and Dagenham 001A\n",
       "  Crime.type                   Last.outcome.category     Context\n",
       "1 Violence and sexual offences Status update unavailable NA     \n",
       "2 Anti-social behaviour                                  NA     \n",
       "3 Anti-social behaviour                                  NA     \n",
       "4 Anti-social behaviour                                  NA     \n",
       "5 Anti-social behaviour                                  NA     \n",
       "6 Anti-social behaviour                                  NA     "
      ]
     },
     "metadata": {},
     "output_type": "display_data"
    }
   ],
   "source": [
    "head(df2021)"
   ]
  },
  {
   "cell_type": "code",
   "execution_count": 12,
   "id": "073958e0",
   "metadata": {},
   "outputs": [
    {
     "data": {
      "text/html": [
       "<table class=\"dataframe\">\n",
       "<caption>A data.frame: 6 × 12</caption>\n",
       "<thead>\n",
       "\t<tr><th></th><th scope=col>Crime.ID</th><th scope=col>Month</th><th scope=col>Reported.by</th><th scope=col>Falls.within</th><th scope=col>Longitude</th><th scope=col>Latitude</th><th scope=col>Location</th><th scope=col>LSOA.code</th><th scope=col>LSOA.name</th><th scope=col>Crime.type</th><th scope=col>Last.outcome.category</th><th scope=col>Context</th></tr>\n",
       "\t<tr><th></th><th scope=col>&lt;chr&gt;</th><th scope=col>&lt;chr&gt;</th><th scope=col>&lt;chr&gt;</th><th scope=col>&lt;chr&gt;</th><th scope=col>&lt;dbl&gt;</th><th scope=col>&lt;dbl&gt;</th><th scope=col>&lt;chr&gt;</th><th scope=col>&lt;chr&gt;</th><th scope=col>&lt;chr&gt;</th><th scope=col>&lt;chr&gt;</th><th scope=col>&lt;chr&gt;</th><th scope=col>&lt;lgl&gt;</th></tr>\n",
       "</thead>\n",
       "<tbody>\n",
       "\t<tr><th scope=row>1072871</th><td>08a6ee1a0a0cddde72f43a463305f14992546be5a66ba39a2e850b6341d84c81</td><td>12/1/2021</td><td>Metropolitan Police Service</td><td>Metropolitan Police Service</td><td>NA</td><td>NA</td><td>No Location</td><td></td><td></td><td>Other crime</td><td>Investigation complete</td><td>NA</td></tr>\n",
       "\t<tr><th scope=row>1072872</th><td>f42482e98886384700303a9bc9eaae695478a18aec4ceba052a94b73145cd477</td><td>12/1/2021</td><td>Metropolitan Police Service</td><td>Metropolitan Police Service</td><td>NA</td><td>NA</td><td>No Location</td><td></td><td></td><td>Other crime</td><td>Awaiting court outcome</td><td>NA</td></tr>\n",
       "\t<tr><th scope=row>1072873</th><td>9c8efaf2b5619705b711756d0bbf4e2b233ffd22ad9c18759430cd7618c4eccc</td><td>12/1/2021</td><td>Metropolitan Police Service</td><td>Metropolitan Police Service</td><td>NA</td><td>NA</td><td>No Location</td><td></td><td></td><td>Other crime</td><td>Investigation complete</td><td>NA</td></tr>\n",
       "\t<tr><th scope=row>1072874</th><td>0047aa2b4f5f01908c34a365035ba6ae94bdaaaf7fdf40b1e9125a000cf9242a</td><td>12/1/2021</td><td>Metropolitan Police Service</td><td>Metropolitan Police Service</td><td>NA</td><td>NA</td><td>No Location</td><td></td><td></td><td>Other crime</td><td>Investigation complete</td><td>NA</td></tr>\n",
       "\t<tr><th scope=row>1072875</th><td>8117674df50bb6b4b20d9c32dead9f86d58a195077a61b6df2ad4dfbf74b54fd</td><td>12/1/2021</td><td>Metropolitan Police Service</td><td>Metropolitan Police Service</td><td>NA</td><td>NA</td><td>No Location</td><td></td><td></td><td>Other crime</td><td>Local resolution      </td><td>NA</td></tr>\n",
       "\t<tr><th scope=row>1072876</th><td>4424a9770463dd6977485eb7469503f862e4b19c2539077e3a94d1e72e36a8d4</td><td>12/1/2021</td><td>Metropolitan Police Service</td><td>Metropolitan Police Service</td><td>NA</td><td>NA</td><td>No Location</td><td></td><td></td><td>Other crime</td><td>Local resolution      </td><td>NA</td></tr>\n",
       "</tbody>\n",
       "</table>\n"
      ],
      "text/latex": [
       "A data.frame: 6 × 12\n",
       "\\begin{tabular}{r|llllllllllll}\n",
       "  & Crime.ID & Month & Reported.by & Falls.within & Longitude & Latitude & Location & LSOA.code & LSOA.name & Crime.type & Last.outcome.category & Context\\\\\n",
       "  & <chr> & <chr> & <chr> & <chr> & <dbl> & <dbl> & <chr> & <chr> & <chr> & <chr> & <chr> & <lgl>\\\\\n",
       "\\hline\n",
       "\t1072871 & 08a6ee1a0a0cddde72f43a463305f14992546be5a66ba39a2e850b6341d84c81 & 12/1/2021 & Metropolitan Police Service & Metropolitan Police Service & NA & NA & No Location &  &  & Other crime & Investigation complete & NA\\\\\n",
       "\t1072872 & f42482e98886384700303a9bc9eaae695478a18aec4ceba052a94b73145cd477 & 12/1/2021 & Metropolitan Police Service & Metropolitan Police Service & NA & NA & No Location &  &  & Other crime & Awaiting court outcome & NA\\\\\n",
       "\t1072873 & 9c8efaf2b5619705b711756d0bbf4e2b233ffd22ad9c18759430cd7618c4eccc & 12/1/2021 & Metropolitan Police Service & Metropolitan Police Service & NA & NA & No Location &  &  & Other crime & Investigation complete & NA\\\\\n",
       "\t1072874 & 0047aa2b4f5f01908c34a365035ba6ae94bdaaaf7fdf40b1e9125a000cf9242a & 12/1/2021 & Metropolitan Police Service & Metropolitan Police Service & NA & NA & No Location &  &  & Other crime & Investigation complete & NA\\\\\n",
       "\t1072875 & 8117674df50bb6b4b20d9c32dead9f86d58a195077a61b6df2ad4dfbf74b54fd & 12/1/2021 & Metropolitan Police Service & Metropolitan Police Service & NA & NA & No Location &  &  & Other crime & Local resolution       & NA\\\\\n",
       "\t1072876 & 4424a9770463dd6977485eb7469503f862e4b19c2539077e3a94d1e72e36a8d4 & 12/1/2021 & Metropolitan Police Service & Metropolitan Police Service & NA & NA & No Location &  &  & Other crime & Local resolution       & NA\\\\\n",
       "\\end{tabular}\n"
      ],
      "text/markdown": [
       "\n",
       "A data.frame: 6 × 12\n",
       "\n",
       "| <!--/--> | Crime.ID &lt;chr&gt; | Month &lt;chr&gt; | Reported.by &lt;chr&gt; | Falls.within &lt;chr&gt; | Longitude &lt;dbl&gt; | Latitude &lt;dbl&gt; | Location &lt;chr&gt; | LSOA.code &lt;chr&gt; | LSOA.name &lt;chr&gt; | Crime.type &lt;chr&gt; | Last.outcome.category &lt;chr&gt; | Context &lt;lgl&gt; |\n",
       "|---|---|---|---|---|---|---|---|---|---|---|---|---|\n",
       "| 1072871 | 08a6ee1a0a0cddde72f43a463305f14992546be5a66ba39a2e850b6341d84c81 | 12/1/2021 | Metropolitan Police Service | Metropolitan Police Service | NA | NA | No Location | <!----> | <!----> | Other crime | Investigation complete | NA |\n",
       "| 1072872 | f42482e98886384700303a9bc9eaae695478a18aec4ceba052a94b73145cd477 | 12/1/2021 | Metropolitan Police Service | Metropolitan Police Service | NA | NA | No Location | <!----> | <!----> | Other crime | Awaiting court outcome | NA |\n",
       "| 1072873 | 9c8efaf2b5619705b711756d0bbf4e2b233ffd22ad9c18759430cd7618c4eccc | 12/1/2021 | Metropolitan Police Service | Metropolitan Police Service | NA | NA | No Location | <!----> | <!----> | Other crime | Investigation complete | NA |\n",
       "| 1072874 | 0047aa2b4f5f01908c34a365035ba6ae94bdaaaf7fdf40b1e9125a000cf9242a | 12/1/2021 | Metropolitan Police Service | Metropolitan Police Service | NA | NA | No Location | <!----> | <!----> | Other crime | Investigation complete | NA |\n",
       "| 1072875 | 8117674df50bb6b4b20d9c32dead9f86d58a195077a61b6df2ad4dfbf74b54fd | 12/1/2021 | Metropolitan Police Service | Metropolitan Police Service | NA | NA | No Location | <!----> | <!----> | Other crime | Local resolution       | NA |\n",
       "| 1072876 | 4424a9770463dd6977485eb7469503f862e4b19c2539077e3a94d1e72e36a8d4 | 12/1/2021 | Metropolitan Police Service | Metropolitan Police Service | NA | NA | No Location | <!----> | <!----> | Other crime | Local resolution       | NA |\n",
       "\n"
      ],
      "text/plain": [
       "        Crime.ID                                                        \n",
       "1072871 08a6ee1a0a0cddde72f43a463305f14992546be5a66ba39a2e850b6341d84c81\n",
       "1072872 f42482e98886384700303a9bc9eaae695478a18aec4ceba052a94b73145cd477\n",
       "1072873 9c8efaf2b5619705b711756d0bbf4e2b233ffd22ad9c18759430cd7618c4eccc\n",
       "1072874 0047aa2b4f5f01908c34a365035ba6ae94bdaaaf7fdf40b1e9125a000cf9242a\n",
       "1072875 8117674df50bb6b4b20d9c32dead9f86d58a195077a61b6df2ad4dfbf74b54fd\n",
       "1072876 4424a9770463dd6977485eb7469503f862e4b19c2539077e3a94d1e72e36a8d4\n",
       "        Month     Reported.by                 Falls.within               \n",
       "1072871 12/1/2021 Metropolitan Police Service Metropolitan Police Service\n",
       "1072872 12/1/2021 Metropolitan Police Service Metropolitan Police Service\n",
       "1072873 12/1/2021 Metropolitan Police Service Metropolitan Police Service\n",
       "1072874 12/1/2021 Metropolitan Police Service Metropolitan Police Service\n",
       "1072875 12/1/2021 Metropolitan Police Service Metropolitan Police Service\n",
       "1072876 12/1/2021 Metropolitan Police Service Metropolitan Police Service\n",
       "        Longitude Latitude Location    LSOA.code LSOA.name Crime.type \n",
       "1072871 NA        NA       No Location                     Other crime\n",
       "1072872 NA        NA       No Location                     Other crime\n",
       "1072873 NA        NA       No Location                     Other crime\n",
       "1072874 NA        NA       No Location                     Other crime\n",
       "1072875 NA        NA       No Location                     Other crime\n",
       "1072876 NA        NA       No Location                     Other crime\n",
       "        Last.outcome.category  Context\n",
       "1072871 Investigation complete NA     \n",
       "1072872 Awaiting court outcome NA     \n",
       "1072873 Investigation complete NA     \n",
       "1072874 Investigation complete NA     \n",
       "1072875 Local resolution       NA     \n",
       "1072876 Local resolution       NA     "
      ]
     },
     "metadata": {},
     "output_type": "display_data"
    }
   ],
   "source": [
    "tail(df2021)"
   ]
  },
  {
   "cell_type": "code",
   "execution_count": 16,
   "id": "81d223ec",
   "metadata": {},
   "outputs": [
    {
     "name": "stdout",
     "output_type": "stream",
     "text": [
      "'data.frame':\t1072876 obs. of  12 variables:\n",
      " $ Crime.ID             : chr  \"d7184bda9365b4c4af9838f13e1daa24e98c0aa40eab396399156b72867eb8c5\" \"\" \"\" \"\" ...\n",
      " $ Month                : chr  \"1/1/2021\" \"1/1/2021\" \"1/1/2021\" \"1/1/2021\" ...\n",
      " $ Reported.by          : chr  \"Metropolitan Police Service\" \"Metropolitan Police Service\" \"Metropolitan Police Service\" \"Metropolitan Police Service\" ...\n",
      " $ Falls.within         : chr  \"Metropolitan Police Service\" \"Metropolitan Police Service\" \"Metropolitan Police Service\" \"Metropolitan Police Service\" ...\n",
      " $ Longitude            : num  0.88 0.14 0.135 0.146 0.135 ...\n",
      " $ Latitude             : num  51.2 51.6 51.6 51.6 51.6 ...\n",
      " $ Location             : chr  \"On or near Buck Street\" \"On or near Hatch Grove\" \"On or near Mead Grove\" \"On or near Providence Place\" ...\n",
      " $ LSOA.code            : chr  \"E01023989\" \"E01000027\" \"E01000027\" \"E01000027\" ...\n",
      " $ LSOA.name            : chr  \"Ashford 002C\" \"Barking and Dagenham 001A\" \"Barking and Dagenham 001A\" \"Barking and Dagenham 001A\" ...\n",
      " $ Crime.type           : chr  \"Violence and sexual offences\" \"Anti-social behaviour\" \"Anti-social behaviour\" \"Anti-social behaviour\" ...\n",
      " $ Last.outcome.category: chr  \"Status update unavailable\" \"\" \"\" \"\" ...\n",
      " $ Context              : logi  NA NA NA NA NA NA ...\n"
     ]
    }
   ],
   "source": [
    "str(df2021)"
   ]
  },
  {
   "cell_type": "code",
   "execution_count": 17,
   "id": "13ae3c55",
   "metadata": {},
   "outputs": [
    {
     "data": {
      "text/html": [
       "'character'"
      ],
      "text/latex": [
       "'character'"
      ],
      "text/markdown": [
       "'character'"
      ],
      "text/plain": [
       "[1] \"character\""
      ]
     },
     "metadata": {},
     "output_type": "display_data"
    }
   ],
   "source": [
    "class(df2021$Month)"
   ]
  },
  {
   "cell_type": "code",
   "execution_count": 18,
   "id": "cbbc38cb",
   "metadata": {},
   "outputs": [
    {
     "data": {
      "text/html": [
       "<style>\n",
       ".list-inline {list-style: none; margin:0; padding: 0}\n",
       ".list-inline>li {display: inline-block}\n",
       ".list-inline>li:not(:last-child)::after {content: \"\\00b7\"; padding: 0 .5ex}\n",
       "</style>\n",
       "<ol class=list-inline><li>'1/1/2021'</li><li>'1/1/2021'</li><li>'1/1/2021'</li><li>'1/1/2021'</li><li>'1/1/2021'</li><li>'1/1/2021'</li></ol>\n"
      ],
      "text/latex": [
       "\\begin{enumerate*}\n",
       "\\item '1/1/2021'\n",
       "\\item '1/1/2021'\n",
       "\\item '1/1/2021'\n",
       "\\item '1/1/2021'\n",
       "\\item '1/1/2021'\n",
       "\\item '1/1/2021'\n",
       "\\end{enumerate*}\n"
      ],
      "text/markdown": [
       "1. '1/1/2021'\n",
       "2. '1/1/2021'\n",
       "3. '1/1/2021'\n",
       "4. '1/1/2021'\n",
       "5. '1/1/2021'\n",
       "6. '1/1/2021'\n",
       "\n",
       "\n"
      ],
      "text/plain": [
       "[1] \"1/1/2021\" \"1/1/2021\" \"1/1/2021\" \"1/1/2021\" \"1/1/2021\" \"1/1/2021\""
      ]
     },
     "metadata": {},
     "output_type": "display_data"
    }
   ],
   "source": [
    "head(df2021$Month)"
   ]
  },
  {
   "cell_type": "code",
   "execution_count": 71,
   "id": "90c44cca",
   "metadata": {},
   "outputs": [
    {
     "data": {
      "text/plain": [
       "[1] NA NA NA NA NA NA"
      ]
     },
     "metadata": {},
     "output_type": "display_data"
    }
   ],
   "source": [
    "# #factor of Date to POSIXt and POSIXt to Date\n",
    "# datepos <- strptime(df2021$Month, format=\"%Y-%m\")\n",
    "# head(datepos)"
   ]
  },
  {
   "cell_type": "code",
   "execution_count": 48,
   "id": "2df3f9c2",
   "metadata": {},
   "outputs": [
    {
     "data": {
      "text/html": [
       "<ol class=list-inline>\n",
       "\t<li>'POSIXlt'</li>\n",
       "\t<li>'POSIXt'</li>\n",
       "</ol>\n"
      ],
      "text/latex": [
       "\\begin{enumerate*}\n",
       "\\item 'POSIXlt'\n",
       "\\item 'POSIXt'\n",
       "\\end{enumerate*}\n"
      ],
      "text/markdown": [
       "1. 'POSIXlt'\n",
       "2. 'POSIXt'\n",
       "\n",
       "\n"
      ],
      "text/plain": [
       "[1] \"POSIXlt\" \"POSIXt\" "
      ]
     },
     "metadata": {},
     "output_type": "display_data"
    }
   ],
   "source": [
    "# class(datepos)"
   ]
  },
  {
   "cell_type": "code",
   "execution_count": 25,
   "id": "57073013",
   "metadata": {},
   "outputs": [],
   "source": [
    "df2021$Month <- as.Date(df2021$Month, format=\"%m-%d-%Y\")"
   ]
  },
  {
   "cell_type": "code",
   "execution_count": 26,
   "id": "a2f586d0",
   "metadata": {},
   "outputs": [
    {
     "data": {
      "text/html": [
       "'Date'"
      ],
      "text/latex": [
       "'Date'"
      ],
      "text/markdown": [
       "'Date'"
      ],
      "text/plain": [
       "[1] \"Date\""
      ]
     },
     "metadata": {},
     "output_type": "display_data"
    }
   ],
   "source": [
    "class(df2021$Month)"
   ]
  },
  {
   "cell_type": "code",
   "execution_count": 27,
   "id": "10f57aad",
   "metadata": {},
   "outputs": [
    {
     "data": {
      "text/html": [
       "<style>\n",
       ".list-inline {list-style: none; margin:0; padding: 0}\n",
       ".list-inline>li {display: inline-block}\n",
       ".list-inline>li:not(:last-child)::after {content: \"\\00b7\"; padding: 0 .5ex}\n",
       "</style>\n",
       "<ol class=list-inline><li><time datetime=\"&lt;NA&gt;\">&lt;NA&gt;</time></li><li><time datetime=\"&lt;NA&gt;\">&lt;NA&gt;</time></li><li><time datetime=\"&lt;NA&gt;\">&lt;NA&gt;</time></li><li><time datetime=\"&lt;NA&gt;\">&lt;NA&gt;</time></li><li><time datetime=\"&lt;NA&gt;\">&lt;NA&gt;</time></li><li><time datetime=\"&lt;NA&gt;\">&lt;NA&gt;</time></li></ol>\n"
      ],
      "text/latex": [
       "\\begin{enumerate*}\n",
       "\\item <NA>\n",
       "\\item <NA>\n",
       "\\item <NA>\n",
       "\\item <NA>\n",
       "\\item <NA>\n",
       "\\item <NA>\n",
       "\\end{enumerate*}\n"
      ],
      "text/markdown": [
       "1. &lt;NA&gt;\n",
       "2. &lt;NA&gt;\n",
       "3. &lt;NA&gt;\n",
       "4. &lt;NA&gt;\n",
       "5. &lt;NA&gt;\n",
       "6. &lt;NA&gt;\n",
       "\n",
       "\n"
      ],
      "text/plain": [
       "[1] NA NA NA NA NA NA"
      ]
     },
     "metadata": {},
     "output_type": "display_data"
    }
   ],
   "source": [
    "head(df2021$Month)"
   ]
  },
  {
   "cell_type": "code",
   "execution_count": 30,
   "id": "228d81c2",
   "metadata": {},
   "outputs": [
    {
     "data": {
      "text/html": [
       "<table class=\"dataframe\">\n",
       "<caption>A data.frame: 6 × 12</caption>\n",
       "<thead>\n",
       "\t<tr><th></th><th scope=col>Crime.ID</th><th scope=col>Month</th><th scope=col>Reported.by</th><th scope=col>Falls.within</th><th scope=col>Longitude</th><th scope=col>Latitude</th><th scope=col>Location</th><th scope=col>LSOA.code</th><th scope=col>LSOA.name</th><th scope=col>Crime.type</th><th scope=col>Last.outcome.category</th><th scope=col>Context</th></tr>\n",
       "\t<tr><th></th><th scope=col>&lt;chr&gt;</th><th scope=col>&lt;date&gt;</th><th scope=col>&lt;chr&gt;</th><th scope=col>&lt;chr&gt;</th><th scope=col>&lt;dbl&gt;</th><th scope=col>&lt;dbl&gt;</th><th scope=col>&lt;chr&gt;</th><th scope=col>&lt;chr&gt;</th><th scope=col>&lt;chr&gt;</th><th scope=col>&lt;chr&gt;</th><th scope=col>&lt;chr&gt;</th><th scope=col>&lt;lgl&gt;</th></tr>\n",
       "</thead>\n",
       "<tbody>\n",
       "\t<tr><th scope=row>1</th><td>d7184bda9365b4c4af9838f13e1daa24e98c0aa40eab396399156b72867eb8c5</td><td>NA</td><td>Metropolitan Police Service</td><td>Metropolitan Police Service</td><td>0.880386</td><td>51.21919</td><td>On or near Buck Street     </td><td>E01023989</td><td>Ashford 002C             </td><td>Violence and sexual offences</td><td>Status update unavailable</td><td>NA</td></tr>\n",
       "\t<tr><th scope=row>2</th><td>                                                                </td><td>NA</td><td>Metropolitan Police Service</td><td>Metropolitan Police Service</td><td>0.140192</td><td>51.58231</td><td>On or near Hatch Grove     </td><td>E01000027</td><td>Barking and Dagenham 001A</td><td>Anti-social behaviour       </td><td>                         </td><td>NA</td></tr>\n",
       "\t<tr><th scope=row>3</th><td>                                                                </td><td>NA</td><td>Metropolitan Police Service</td><td>Metropolitan Police Service</td><td>0.134947</td><td>51.58806</td><td>On or near Mead Grove      </td><td>E01000027</td><td>Barking and Dagenham 001A</td><td>Anti-social behaviour       </td><td>                         </td><td>NA</td></tr>\n",
       "\t<tr><th scope=row>4</th><td>                                                                </td><td>NA</td><td>Metropolitan Police Service</td><td>Metropolitan Police Service</td><td>0.145888</td><td>51.59383</td><td>On or near Providence Place</td><td>E01000027</td><td>Barking and Dagenham 001A</td><td>Anti-social behaviour       </td><td>                         </td><td>NA</td></tr>\n",
       "\t<tr><th scope=row>5</th><td>                                                                </td><td>NA</td><td>Metropolitan Police Service</td><td>Metropolitan Police Service</td><td>0.134947</td><td>51.58806</td><td>On or near Mead Grove      </td><td>E01000027</td><td>Barking and Dagenham 001A</td><td>Anti-social behaviour       </td><td>                         </td><td>NA</td></tr>\n",
       "\t<tr><th scope=row>6</th><td>                                                                </td><td>NA</td><td>Metropolitan Police Service</td><td>Metropolitan Police Service</td><td>0.141143</td><td>51.59087</td><td>On or near Furze Farm Close</td><td>E01000027</td><td>Barking and Dagenham 001A</td><td>Anti-social behaviour       </td><td>                         </td><td>NA</td></tr>\n",
       "</tbody>\n",
       "</table>\n"
      ],
      "text/latex": [
       "A data.frame: 6 × 12\n",
       "\\begin{tabular}{r|llllllllllll}\n",
       "  & Crime.ID & Month & Reported.by & Falls.within & Longitude & Latitude & Location & LSOA.code & LSOA.name & Crime.type & Last.outcome.category & Context\\\\\n",
       "  & <chr> & <date> & <chr> & <chr> & <dbl> & <dbl> & <chr> & <chr> & <chr> & <chr> & <chr> & <lgl>\\\\\n",
       "\\hline\n",
       "\t1 & d7184bda9365b4c4af9838f13e1daa24e98c0aa40eab396399156b72867eb8c5 & NA & Metropolitan Police Service & Metropolitan Police Service & 0.880386 & 51.21919 & On or near Buck Street      & E01023989 & Ashford 002C              & Violence and sexual offences & Status update unavailable & NA\\\\\n",
       "\t2 &                                                                  & NA & Metropolitan Police Service & Metropolitan Police Service & 0.140192 & 51.58231 & On or near Hatch Grove      & E01000027 & Barking and Dagenham 001A & Anti-social behaviour        &                           & NA\\\\\n",
       "\t3 &                                                                  & NA & Metropolitan Police Service & Metropolitan Police Service & 0.134947 & 51.58806 & On or near Mead Grove       & E01000027 & Barking and Dagenham 001A & Anti-social behaviour        &                           & NA\\\\\n",
       "\t4 &                                                                  & NA & Metropolitan Police Service & Metropolitan Police Service & 0.145888 & 51.59383 & On or near Providence Place & E01000027 & Barking and Dagenham 001A & Anti-social behaviour        &                           & NA\\\\\n",
       "\t5 &                                                                  & NA & Metropolitan Police Service & Metropolitan Police Service & 0.134947 & 51.58806 & On or near Mead Grove       & E01000027 & Barking and Dagenham 001A & Anti-social behaviour        &                           & NA\\\\\n",
       "\t6 &                                                                  & NA & Metropolitan Police Service & Metropolitan Police Service & 0.141143 & 51.59087 & On or near Furze Farm Close & E01000027 & Barking and Dagenham 001A & Anti-social behaviour        &                           & NA\\\\\n",
       "\\end{tabular}\n"
      ],
      "text/markdown": [
       "\n",
       "A data.frame: 6 × 12\n",
       "\n",
       "| <!--/--> | Crime.ID &lt;chr&gt; | Month &lt;date&gt; | Reported.by &lt;chr&gt; | Falls.within &lt;chr&gt; | Longitude &lt;dbl&gt; | Latitude &lt;dbl&gt; | Location &lt;chr&gt; | LSOA.code &lt;chr&gt; | LSOA.name &lt;chr&gt; | Crime.type &lt;chr&gt; | Last.outcome.category &lt;chr&gt; | Context &lt;lgl&gt; |\n",
       "|---|---|---|---|---|---|---|---|---|---|---|---|---|\n",
       "| 1 | d7184bda9365b4c4af9838f13e1daa24e98c0aa40eab396399156b72867eb8c5 | NA | Metropolitan Police Service | Metropolitan Police Service | 0.880386 | 51.21919 | On or near Buck Street      | E01023989 | Ashford 002C              | Violence and sexual offences | Status update unavailable | NA |\n",
       "| 2 | <!----> | NA | Metropolitan Police Service | Metropolitan Police Service | 0.140192 | 51.58231 | On or near Hatch Grove      | E01000027 | Barking and Dagenham 001A | Anti-social behaviour        | <!----> | NA |\n",
       "| 3 | <!----> | NA | Metropolitan Police Service | Metropolitan Police Service | 0.134947 | 51.58806 | On or near Mead Grove       | E01000027 | Barking and Dagenham 001A | Anti-social behaviour        | <!----> | NA |\n",
       "| 4 | <!----> | NA | Metropolitan Police Service | Metropolitan Police Service | 0.145888 | 51.59383 | On or near Providence Place | E01000027 | Barking and Dagenham 001A | Anti-social behaviour        | <!----> | NA |\n",
       "| 5 | <!----> | NA | Metropolitan Police Service | Metropolitan Police Service | 0.134947 | 51.58806 | On or near Mead Grove       | E01000027 | Barking and Dagenham 001A | Anti-social behaviour        | <!----> | NA |\n",
       "| 6 | <!----> | NA | Metropolitan Police Service | Metropolitan Police Service | 0.141143 | 51.59087 | On or near Furze Farm Close | E01000027 | Barking and Dagenham 001A | Anti-social behaviour        | <!----> | NA |\n",
       "\n"
      ],
      "text/plain": [
       "  Crime.ID                                                         Month\n",
       "1 d7184bda9365b4c4af9838f13e1daa24e98c0aa40eab396399156b72867eb8c5 <NA> \n",
       "2                                                                  <NA> \n",
       "3                                                                  <NA> \n",
       "4                                                                  <NA> \n",
       "5                                                                  <NA> \n",
       "6                                                                  <NA> \n",
       "  Reported.by                 Falls.within                Longitude Latitude\n",
       "1 Metropolitan Police Service Metropolitan Police Service 0.880386  51.21919\n",
       "2 Metropolitan Police Service Metropolitan Police Service 0.140192  51.58231\n",
       "3 Metropolitan Police Service Metropolitan Police Service 0.134947  51.58806\n",
       "4 Metropolitan Police Service Metropolitan Police Service 0.145888  51.59383\n",
       "5 Metropolitan Police Service Metropolitan Police Service 0.134947  51.58806\n",
       "6 Metropolitan Police Service Metropolitan Police Service 0.141143  51.59087\n",
       "  Location                    LSOA.code LSOA.name                \n",
       "1 On or near Buck Street      E01023989 Ashford 002C             \n",
       "2 On or near Hatch Grove      E01000027 Barking and Dagenham 001A\n",
       "3 On or near Mead Grove       E01000027 Barking and Dagenham 001A\n",
       "4 On or near Providence Place E01000027 Barking and Dagenham 001A\n",
       "5 On or near Mead Grove       E01000027 Barking and Dagenham 001A\n",
       "6 On or near Furze Farm Close E01000027 Barking and Dagenham 001A\n",
       "  Crime.type                   Last.outcome.category     Context\n",
       "1 Violence and sexual offences Status update unavailable NA     \n",
       "2 Anti-social behaviour                                  NA     \n",
       "3 Anti-social behaviour                                  NA     \n",
       "4 Anti-social behaviour                                  NA     \n",
       "5 Anti-social behaviour                                  NA     \n",
       "6 Anti-social behaviour                                  NA     "
      ]
     },
     "metadata": {},
     "output_type": "display_data"
    }
   ],
   "source": [
    "head(df2021)"
   ]
  },
  {
   "cell_type": "code",
   "execution_count": 70,
   "id": "7d56b7cc",
   "metadata": {},
   "outputs": [
    {
     "data": {
      "text/html": [
       "'English_United States.1252'"
      ],
      "text/latex": [
       "'English\\_United States.1252'"
      ],
      "text/markdown": [
       "'English_United States.1252'"
      ],
      "text/plain": [
       "[1] \"English_United States.1252\""
      ]
     },
     "metadata": {},
     "output_type": "display_data"
    }
   ],
   "source": [
    "Sys.getlocale(\"LC_TIME\")"
   ]
  },
  {
   "cell_type": "code",
   "execution_count": 52,
   "id": "b557f47b",
   "metadata": {},
   "outputs": [
    {
     "data": {
      "text/html": [
       "'English_United States.1252'"
      ],
      "text/latex": [
       "'English\\_United States.1252'"
      ],
      "text/markdown": [
       "'English_United States.1252'"
      ],
      "text/plain": [
       "[1] \"English_United States.1252\""
      ]
     },
     "metadata": {},
     "output_type": "display_data"
    }
   ],
   "source": [
    "Sys.setlocale(\"LC_TIME\", \"English_United States.1252\")"
   ]
  },
  {
   "cell_type": "code",
   "execution_count": 26,
   "id": "f6b08615",
   "metadata": {},
   "outputs": [
    {
     "data": {
      "text/html": [
       "'Date'"
      ],
      "text/latex": [
       "'Date'"
      ],
      "text/markdown": [
       "'Date'"
      ],
      "text/plain": [
       "[1] \"Date\""
      ]
     },
     "metadata": {},
     "output_type": "display_data"
    }
   ],
   "source": [
    "class(df2021$Month)"
   ]
  },
  {
   "cell_type": "code",
   "execution_count": 28,
   "id": "a5474365",
   "metadata": {},
   "outputs": [
    {
     "data": {
      "text/html": [
       "<ol class=list-inline>\n",
       "\t<li><time datetime=\"&lt;NA&gt;\">&lt;NA&gt;</time></li>\n",
       "\t<li><time datetime=\"&lt;NA&gt;\">&lt;NA&gt;</time></li>\n",
       "\t<li><time datetime=\"&lt;NA&gt;\">&lt;NA&gt;</time></li>\n",
       "\t<li><time datetime=\"&lt;NA&gt;\">&lt;NA&gt;</time></li>\n",
       "\t<li><time datetime=\"&lt;NA&gt;\">&lt;NA&gt;</time></li>\n",
       "\t<li><time datetime=\"&lt;NA&gt;\">&lt;NA&gt;</time></li>\n",
       "</ol>\n"
      ],
      "text/latex": [
       "\\begin{enumerate*}\n",
       "\\item <NA>\n",
       "\\item <NA>\n",
       "\\item <NA>\n",
       "\\item <NA>\n",
       "\\item <NA>\n",
       "\\item <NA>\n",
       "\\end{enumerate*}\n"
      ],
      "text/markdown": [
       "1. &lt;NA&gt;\n",
       "2. &lt;NA&gt;\n",
       "3. &lt;NA&gt;\n",
       "4. &lt;NA&gt;\n",
       "5. &lt;NA&gt;\n",
       "6. &lt;NA&gt;\n",
       "\n",
       "\n"
      ],
      "text/plain": [
       "[1] NA NA NA NA NA NA"
      ]
     },
     "metadata": {},
     "output_type": "display_data"
    }
   ],
   "source": [
    "head(df2021$Month)"
   ]
  },
  {
   "cell_type": "code",
   "execution_count": 20,
   "id": "c8811d4c",
   "metadata": {},
   "outputs": [],
   "source": [
    "#removing lat lon fields with NAs\n",
    "df2021 <- df2021[!is.na(df2021$Longitude)&!is.na(df2021$Latitude),]"
   ]
  },
  {
   "cell_type": "code",
   "execution_count": 27,
   "id": "1351360d",
   "metadata": {},
   "outputs": [
    {
     "name": "stdout",
     "output_type": "stream",
     "text": [
      "'data.frame':\t1057667 obs. of  12 variables:\n",
      " $ Crime.ID             : Factor w/ 729868 levels \"\",\"0000ffe891ffd7a11d2186ead023d918c291f59f066b5934a16b6043f995d12a\",..: 40492 1 1 1 1 1 1 1 1 33153 ...\n",
      " $ Month                : Date, format: NA NA ...\n",
      " $ Reported.by          : Factor w/ 1 level \"Metropolitan Police Service\": 1 1 1 1 1 1 1 1 1 1 ...\n",
      " $ Falls.within         : Factor w/ 1 level \"Metropolitan Police Service\": 1 1 1 1 1 1 1 1 1 1 ...\n",
      " $ Longitude            : num  0.88 0.14 0.135 0.146 0.135 ...\n",
      " $ Latitude             : num  51.2 51.6 51.6 51.6 51.6 ...\n",
      " $ Location             : Factor w/ 36001 levels \"No Location\",..: 2902 9021 12642 15293 12642 7652 12642 12642 9021 7860 ...\n",
      " $ LSOA.code            : Factor w/ 7279 levels \"\",\"E01000001\",..: 4754 24 24 24 24 24 24 24 24 24 ...\n",
      " $ LSOA.name            : Factor w/ 7279 levels \"\",\"Ashford 002C\",..: 2 3 3 3 3 3 3 3 3 3 ...\n",
      " $ Crime.type           : Factor w/ 14 levels \"Anti-social behaviour\",..: 14 1 1 1 1 1 1 1 1 2 ...\n",
      " $ Last.outcome.category: Factor w/ 13 levels \"\",\"Awaiting court outcome\",..: 9 1 1 1 1 1 1 1 1 4 ...\n",
      " $ Context              : logi  NA NA NA NA NA NA ...\n"
     ]
    }
   ],
   "source": [
    "str(df2021)"
   ]
  },
  {
   "cell_type": "code",
   "execution_count": 22,
   "id": "7418a9dd",
   "metadata": {},
   "outputs": [
    {
     "data": {
      "text/html": [
       "'15209 fields were removed by eliminating fields without latitude and longitude'"
      ],
      "text/latex": [
       "'15209 fields were removed by eliminating fields without latitude and longitude'"
      ],
      "text/markdown": [
       "'15209 fields were removed by eliminating fields without latitude and longitude'"
      ],
      "text/plain": [
       "[1] \"15209 fields were removed by eliminating fields without latitude and longitude\""
      ]
     },
     "metadata": {},
     "output_type": "display_data"
    }
   ],
   "source": [
    "a <- 1072876-1057667\n",
    "sprintf('%s fields were removed by eliminating fields without latitude and longitude',a)"
   ]
  },
  {
   "cell_type": "code",
   "execution_count": 23,
   "id": "76a4899b",
   "metadata": {},
   "outputs": [
    {
     "data": {
      "text/html": [
       "<table>\n",
       "<thead><tr><th scope=col>Crime.ID</th><th scope=col>Month</th><th scope=col>Reported.by</th><th scope=col>Falls.within</th><th scope=col>Longitude</th><th scope=col>Latitude</th><th scope=col>Location</th><th scope=col>LSOA.code</th><th scope=col>LSOA.name</th><th scope=col>Crime.type</th><th scope=col>Last.outcome.category</th><th scope=col>Context</th></tr></thead>\n",
       "<tbody>\n",
       "\t<tr><td>d7184bda9365b4c4af9838f13e1daa24e98c0aa40eab396399156b72867eb8c5</td><td>NA                                                              </td><td>Metropolitan Police Service                                     </td><td>Metropolitan Police Service                                     </td><td>0.880386                                                        </td><td>51.21919                                                        </td><td>On or near Buck Street                                          </td><td>E01023989                                                       </td><td>Ashford 002C                                                    </td><td>Violence and sexual offences                                    </td><td>Status update unavailable                                       </td><td>NA                                                              </td></tr>\n",
       "\t<tr><td>                                                                </td><td>NA                                                              </td><td>Metropolitan Police Service                                     </td><td>Metropolitan Police Service                                     </td><td>0.140192                                                        </td><td>51.58231                                                        </td><td>On or near Hatch Grove                                          </td><td>E01000027                                                       </td><td>Barking and Dagenham 001A                                       </td><td>Anti-social behaviour                                           </td><td>                                                                </td><td>NA                                                              </td></tr>\n",
       "\t<tr><td>                                                                </td><td>NA                                                              </td><td>Metropolitan Police Service                                     </td><td>Metropolitan Police Service                                     </td><td>0.134947                                                        </td><td>51.58806                                                        </td><td>On or near Mead Grove                                           </td><td>E01000027                                                       </td><td>Barking and Dagenham 001A                                       </td><td>Anti-social behaviour                                           </td><td>                                                                </td><td>NA                                                              </td></tr>\n",
       "\t<tr><td>                                                                </td><td>NA                                                              </td><td>Metropolitan Police Service                                     </td><td>Metropolitan Police Service                                     </td><td>0.145888                                                        </td><td>51.59383                                                        </td><td>On or near Providence Place                                     </td><td>E01000027                                                       </td><td>Barking and Dagenham 001A                                       </td><td>Anti-social behaviour                                           </td><td>                                                                </td><td>NA                                                              </td></tr>\n",
       "\t<tr><td>                                                                </td><td>NA                                                              </td><td>Metropolitan Police Service                                     </td><td>Metropolitan Police Service                                     </td><td>0.134947                                                        </td><td>51.58806                                                        </td><td>On or near Mead Grove                                           </td><td>E01000027                                                       </td><td>Barking and Dagenham 001A                                       </td><td>Anti-social behaviour                                           </td><td>                                                                </td><td>NA                                                              </td></tr>\n",
       "\t<tr><td>                                                                </td><td>NA                                                              </td><td>Metropolitan Police Service                                     </td><td>Metropolitan Police Service                                     </td><td>0.141143                                                        </td><td>51.59087                                                        </td><td>On or near Furze Farm Close                                     </td><td>E01000027                                                       </td><td>Barking and Dagenham 001A                                       </td><td>Anti-social behaviour                                           </td><td>                                                                </td><td>NA                                                              </td></tr>\n",
       "</tbody>\n",
       "</table>\n"
      ],
      "text/latex": [
       "\\begin{tabular}{r|llllllllllll}\n",
       " Crime.ID & Month & Reported.by & Falls.within & Longitude & Latitude & Location & LSOA.code & LSOA.name & Crime.type & Last.outcome.category & Context\\\\\n",
       "\\hline\n",
       "\t d7184bda9365b4c4af9838f13e1daa24e98c0aa40eab396399156b72867eb8c5 & NA                                                               & Metropolitan Police Service                                      & Metropolitan Police Service                                      & 0.880386                                                         & 51.21919                                                         & On or near Buck Street                                           & E01023989                                                        & Ashford 002C                                                     & Violence and sexual offences                                     & Status update unavailable                                        & NA                                                              \\\\\n",
       "\t                                                                  & NA                                                               & Metropolitan Police Service                                      & Metropolitan Police Service                                      & 0.140192                                                         & 51.58231                                                         & On or near Hatch Grove                                           & E01000027                                                        & Barking and Dagenham 001A                                        & Anti-social behaviour                                            &                                                                  & NA                                                              \\\\\n",
       "\t                                                                  & NA                                                               & Metropolitan Police Service                                      & Metropolitan Police Service                                      & 0.134947                                                         & 51.58806                                                         & On or near Mead Grove                                            & E01000027                                                        & Barking and Dagenham 001A                                        & Anti-social behaviour                                            &                                                                  & NA                                                              \\\\\n",
       "\t                                                                  & NA                                                               & Metropolitan Police Service                                      & Metropolitan Police Service                                      & 0.145888                                                         & 51.59383                                                         & On or near Providence Place                                      & E01000027                                                        & Barking and Dagenham 001A                                        & Anti-social behaviour                                            &                                                                  & NA                                                              \\\\\n",
       "\t                                                                  & NA                                                               & Metropolitan Police Service                                      & Metropolitan Police Service                                      & 0.134947                                                         & 51.58806                                                         & On or near Mead Grove                                            & E01000027                                                        & Barking and Dagenham 001A                                        & Anti-social behaviour                                            &                                                                  & NA                                                              \\\\\n",
       "\t                                                                  & NA                                                               & Metropolitan Police Service                                      & Metropolitan Police Service                                      & 0.141143                                                         & 51.59087                                                         & On or near Furze Farm Close                                      & E01000027                                                        & Barking and Dagenham 001A                                        & Anti-social behaviour                                            &                                                                  & NA                                                              \\\\\n",
       "\\end{tabular}\n"
      ],
      "text/markdown": [
       "\n",
       "| Crime.ID | Month | Reported.by | Falls.within | Longitude | Latitude | Location | LSOA.code | LSOA.name | Crime.type | Last.outcome.category | Context |\n",
       "|---|---|---|---|---|---|---|---|---|---|---|---|\n",
       "| d7184bda9365b4c4af9838f13e1daa24e98c0aa40eab396399156b72867eb8c5 | NA                                                               | Metropolitan Police Service                                      | Metropolitan Police Service                                      | 0.880386                                                         | 51.21919                                                         | On or near Buck Street                                           | E01023989                                                        | Ashford 002C                                                     | Violence and sexual offences                                     | Status update unavailable                                        | NA                                                               |\n",
       "|                                                                  | NA                                                               | Metropolitan Police Service                                      | Metropolitan Police Service                                      | 0.140192                                                         | 51.58231                                                         | On or near Hatch Grove                                           | E01000027                                                        | Barking and Dagenham 001A                                        | Anti-social behaviour                                            |                                                                  | NA                                                               |\n",
       "|                                                                  | NA                                                               | Metropolitan Police Service                                      | Metropolitan Police Service                                      | 0.134947                                                         | 51.58806                                                         | On or near Mead Grove                                            | E01000027                                                        | Barking and Dagenham 001A                                        | Anti-social behaviour                                            |                                                                  | NA                                                               |\n",
       "|                                                                  | NA                                                               | Metropolitan Police Service                                      | Metropolitan Police Service                                      | 0.145888                                                         | 51.59383                                                         | On or near Providence Place                                      | E01000027                                                        | Barking and Dagenham 001A                                        | Anti-social behaviour                                            |                                                                  | NA                                                               |\n",
       "|                                                                  | NA                                                               | Metropolitan Police Service                                      | Metropolitan Police Service                                      | 0.134947                                                         | 51.58806                                                         | On or near Mead Grove                                            | E01000027                                                        | Barking and Dagenham 001A                                        | Anti-social behaviour                                            |                                                                  | NA                                                               |\n",
       "|                                                                  | NA                                                               | Metropolitan Police Service                                      | Metropolitan Police Service                                      | 0.141143                                                         | 51.59087                                                         | On or near Furze Farm Close                                      | E01000027                                                        | Barking and Dagenham 001A                                        | Anti-social behaviour                                            |                                                                  | NA                                                               |\n",
       "\n"
      ],
      "text/plain": [
       "  Crime.ID                                                         Month\n",
       "1 d7184bda9365b4c4af9838f13e1daa24e98c0aa40eab396399156b72867eb8c5 <NA> \n",
       "2                                                                  <NA> \n",
       "3                                                                  <NA> \n",
       "4                                                                  <NA> \n",
       "5                                                                  <NA> \n",
       "6                                                                  <NA> \n",
       "  Reported.by                 Falls.within                Longitude Latitude\n",
       "1 Metropolitan Police Service Metropolitan Police Service 0.880386  51.21919\n",
       "2 Metropolitan Police Service Metropolitan Police Service 0.140192  51.58231\n",
       "3 Metropolitan Police Service Metropolitan Police Service 0.134947  51.58806\n",
       "4 Metropolitan Police Service Metropolitan Police Service 0.145888  51.59383\n",
       "5 Metropolitan Police Service Metropolitan Police Service 0.134947  51.58806\n",
       "6 Metropolitan Police Service Metropolitan Police Service 0.141143  51.59087\n",
       "  Location                    LSOA.code LSOA.name                \n",
       "1 On or near Buck Street      E01023989 Ashford 002C             \n",
       "2 On or near Hatch Grove      E01000027 Barking and Dagenham 001A\n",
       "3 On or near Mead Grove       E01000027 Barking and Dagenham 001A\n",
       "4 On or near Providence Place E01000027 Barking and Dagenham 001A\n",
       "5 On or near Mead Grove       E01000027 Barking and Dagenham 001A\n",
       "6 On or near Furze Farm Close E01000027 Barking and Dagenham 001A\n",
       "  Crime.type                   Last.outcome.category     Context\n",
       "1 Violence and sexual offences Status update unavailable NA     \n",
       "2 Anti-social behaviour                                  NA     \n",
       "3 Anti-social behaviour                                  NA     \n",
       "4 Anti-social behaviour                                  NA     \n",
       "5 Anti-social behaviour                                  NA     \n",
       "6 Anti-social behaviour                                  NA     "
      ]
     },
     "metadata": {},
     "output_type": "display_data"
    }
   ],
   "source": [
    "head(df2021)"
   ]
  },
  {
   "cell_type": "code",
   "execution_count": 24,
   "id": "4b2e8b97",
   "metadata": {},
   "outputs": [
    {
     "data": {
      "text/html": [
       "<table>\n",
       "<thead><tr><th></th><th scope=col>Crime.ID</th><th scope=col>Month</th><th scope=col>Reported.by</th><th scope=col>Falls.within</th><th scope=col>Longitude</th><th scope=col>Latitude</th><th scope=col>Location</th><th scope=col>LSOA.code</th><th scope=col>LSOA.name</th><th scope=col>Crime.type</th><th scope=col>Last.outcome.category</th><th scope=col>Context</th></tr></thead>\n",
       "<tbody>\n",
       "\t<tr><th scope=row>1070871</th><td>2222d608828a4d7ef7920c8c1a80331e6767d05e748e6b18ec245ef6dc4f8c7c</td><td>NA                                                              </td><td>Metropolitan Police Service                                     </td><td>Metropolitan Police Service                                     </td><td>-0.606664                                                       </td><td>51.48515                                                        </td><td>On or near Chapter Mews                                         </td><td>E01016567                                                       </td><td>Windsor and Maidenhead 010B                                     </td><td>Possession of weapons                                           </td><td>Local resolution                                                </td><td>NA                                                              </td></tr>\n",
       "\t<tr><th scope=row>1070872</th><td>13751da75dad0c8ae35caf0642a48de7cb6876de7df3701ae5b40fa436095bc4</td><td>NA                                                              </td><td>Metropolitan Police Service                                     </td><td>Metropolitan Police Service                                     </td><td>-0.608141                                                       </td><td>51.48397                                                        </td><td>On or near Thames Street                                        </td><td>E01016567                                                       </td><td>Windsor and Maidenhead 010B                                     </td><td>Violence and sexual offences                                    </td><td>Under investigation                                             </td><td>NA                                                              </td></tr>\n",
       "\t<tr><th scope=row>1070873</th><td>13751da75dad0c8ae35caf0642a48de7cb6876de7df3701ae5b40fa436095bc4</td><td>NA                                                              </td><td>Metropolitan Police Service                                     </td><td>Metropolitan Police Service                                     </td><td>-0.608141                                                       </td><td>51.48397                                                        </td><td>On or near Thames Street                                        </td><td>E01016567                                                       </td><td>Windsor and Maidenhead 010B                                     </td><td>Violence and sexual offences                                    </td><td>Under investigation                                             </td><td>NA                                                              </td></tr>\n",
       "\t<tr><th scope=row>1070874</th><td>06fc6c590ebca3ff40766cfb3f013e3b927e0dd6dae15a437a56eb322f4250d1</td><td>NA                                                              </td><td>Metropolitan Police Service                                     </td><td>Metropolitan Police Service                                     </td><td>-0.580030                                                       </td><td>51.48203                                                        </td><td>On or near The Avenue                                           </td><td>E01016565                                                       </td><td>Windsor and Maidenhead 011B                                     </td><td>Drugs                                                           </td><td>Under investigation                                             </td><td>NA                                                              </td></tr>\n",
       "\t<tr><th scope=row>1070875</th><td>65b050f27f5d3e7a97dc0c44813f7f7e82bf76890be053a1301c166d39bf4d2e</td><td>NA                                                              </td><td>Metropolitan Police Service                                     </td><td>Metropolitan Police Service                                     </td><td>-0.610450                                                       </td><td>51.48050                                                        </td><td>On or near William Street                                       </td><td>E01016545                                                       </td><td>Windsor and Maidenhead 012A                                     </td><td>Violence and sexual offences                                    </td><td>Under investigation                                             </td><td>NA                                                              </td></tr>\n",
       "\t<tr><th scope=row>1070876</th><td>3adc7ff8d7f08819bffb0e5fd014561e28e7250da4d60241f31cf950ff866b14</td><td>NA                                                              </td><td>Metropolitan Police Service                                     </td><td>Metropolitan Police Service                                     </td><td>-2.135083                                                       </td><td>52.59150                                                        </td><td>On or near Paget Street                                         </td><td>E01010529                                                       </td><td>Wolverhampton 016D                                              </td><td>Violence and sexual offences                                    </td><td>Under investigation                                             </td><td>NA                                                              </td></tr>\n",
       "</tbody>\n",
       "</table>\n"
      ],
      "text/latex": [
       "\\begin{tabular}{r|llllllllllll}\n",
       "  & Crime.ID & Month & Reported.by & Falls.within & Longitude & Latitude & Location & LSOA.code & LSOA.name & Crime.type & Last.outcome.category & Context\\\\\n",
       "\\hline\n",
       "\t1070871 & 2222d608828a4d7ef7920c8c1a80331e6767d05e748e6b18ec245ef6dc4f8c7c & NA                                                               & Metropolitan Police Service                                      & Metropolitan Police Service                                      & -0.606664                                                        & 51.48515                                                         & On or near Chapter Mews                                          & E01016567                                                        & Windsor and Maidenhead 010B                                      & Possession of weapons                                            & Local resolution                                                 & NA                                                              \\\\\n",
       "\t1070872 & 13751da75dad0c8ae35caf0642a48de7cb6876de7df3701ae5b40fa436095bc4 & NA                                                               & Metropolitan Police Service                                      & Metropolitan Police Service                                      & -0.608141                                                        & 51.48397                                                         & On or near Thames Street                                         & E01016567                                                        & Windsor and Maidenhead 010B                                      & Violence and sexual offences                                     & Under investigation                                              & NA                                                              \\\\\n",
       "\t1070873 & 13751da75dad0c8ae35caf0642a48de7cb6876de7df3701ae5b40fa436095bc4 & NA                                                               & Metropolitan Police Service                                      & Metropolitan Police Service                                      & -0.608141                                                        & 51.48397                                                         & On or near Thames Street                                         & E01016567                                                        & Windsor and Maidenhead 010B                                      & Violence and sexual offences                                     & Under investigation                                              & NA                                                              \\\\\n",
       "\t1070874 & 06fc6c590ebca3ff40766cfb3f013e3b927e0dd6dae15a437a56eb322f4250d1 & NA                                                               & Metropolitan Police Service                                      & Metropolitan Police Service                                      & -0.580030                                                        & 51.48203                                                         & On or near The Avenue                                            & E01016565                                                        & Windsor and Maidenhead 011B                                      & Drugs                                                            & Under investigation                                              & NA                                                              \\\\\n",
       "\t1070875 & 65b050f27f5d3e7a97dc0c44813f7f7e82bf76890be053a1301c166d39bf4d2e & NA                                                               & Metropolitan Police Service                                      & Metropolitan Police Service                                      & -0.610450                                                        & 51.48050                                                         & On or near William Street                                        & E01016545                                                        & Windsor and Maidenhead 012A                                      & Violence and sexual offences                                     & Under investigation                                              & NA                                                              \\\\\n",
       "\t1070876 & 3adc7ff8d7f08819bffb0e5fd014561e28e7250da4d60241f31cf950ff866b14 & NA                                                               & Metropolitan Police Service                                      & Metropolitan Police Service                                      & -2.135083                                                        & 52.59150                                                         & On or near Paget Street                                          & E01010529                                                        & Wolverhampton 016D                                               & Violence and sexual offences                                     & Under investigation                                              & NA                                                              \\\\\n",
       "\\end{tabular}\n"
      ],
      "text/markdown": [
       "\n",
       "| <!--/--> | Crime.ID | Month | Reported.by | Falls.within | Longitude | Latitude | Location | LSOA.code | LSOA.name | Crime.type | Last.outcome.category | Context |\n",
       "|---|---|---|---|---|---|---|---|---|---|---|---|---|\n",
       "| 1070871 | 2222d608828a4d7ef7920c8c1a80331e6767d05e748e6b18ec245ef6dc4f8c7c | NA                                                               | Metropolitan Police Service                                      | Metropolitan Police Service                                      | -0.606664                                                        | 51.48515                                                         | On or near Chapter Mews                                          | E01016567                                                        | Windsor and Maidenhead 010B                                      | Possession of weapons                                            | Local resolution                                                 | NA                                                               |\n",
       "| 1070872 | 13751da75dad0c8ae35caf0642a48de7cb6876de7df3701ae5b40fa436095bc4 | NA                                                               | Metropolitan Police Service                                      | Metropolitan Police Service                                      | -0.608141                                                        | 51.48397                                                         | On or near Thames Street                                         | E01016567                                                        | Windsor and Maidenhead 010B                                      | Violence and sexual offences                                     | Under investigation                                              | NA                                                               |\n",
       "| 1070873 | 13751da75dad0c8ae35caf0642a48de7cb6876de7df3701ae5b40fa436095bc4 | NA                                                               | Metropolitan Police Service                                      | Metropolitan Police Service                                      | -0.608141                                                        | 51.48397                                                         | On or near Thames Street                                         | E01016567                                                        | Windsor and Maidenhead 010B                                      | Violence and sexual offences                                     | Under investigation                                              | NA                                                               |\n",
       "| 1070874 | 06fc6c590ebca3ff40766cfb3f013e3b927e0dd6dae15a437a56eb322f4250d1 | NA                                                               | Metropolitan Police Service                                      | Metropolitan Police Service                                      | -0.580030                                                        | 51.48203                                                         | On or near The Avenue                                            | E01016565                                                        | Windsor and Maidenhead 011B                                      | Drugs                                                            | Under investigation                                              | NA                                                               |\n",
       "| 1070875 | 65b050f27f5d3e7a97dc0c44813f7f7e82bf76890be053a1301c166d39bf4d2e | NA                                                               | Metropolitan Police Service                                      | Metropolitan Police Service                                      | -0.610450                                                        | 51.48050                                                         | On or near William Street                                        | E01016545                                                        | Windsor and Maidenhead 012A                                      | Violence and sexual offences                                     | Under investigation                                              | NA                                                               |\n",
       "| 1070876 | 3adc7ff8d7f08819bffb0e5fd014561e28e7250da4d60241f31cf950ff866b14 | NA                                                               | Metropolitan Police Service                                      | Metropolitan Police Service                                      | -2.135083                                                        | 52.59150                                                         | On or near Paget Street                                          | E01010529                                                        | Wolverhampton 016D                                               | Violence and sexual offences                                     | Under investigation                                              | NA                                                               |\n",
       "\n"
      ],
      "text/plain": [
       "        Crime.ID                                                         Month\n",
       "1070871 2222d608828a4d7ef7920c8c1a80331e6767d05e748e6b18ec245ef6dc4f8c7c <NA> \n",
       "1070872 13751da75dad0c8ae35caf0642a48de7cb6876de7df3701ae5b40fa436095bc4 <NA> \n",
       "1070873 13751da75dad0c8ae35caf0642a48de7cb6876de7df3701ae5b40fa436095bc4 <NA> \n",
       "1070874 06fc6c590ebca3ff40766cfb3f013e3b927e0dd6dae15a437a56eb322f4250d1 <NA> \n",
       "1070875 65b050f27f5d3e7a97dc0c44813f7f7e82bf76890be053a1301c166d39bf4d2e <NA> \n",
       "1070876 3adc7ff8d7f08819bffb0e5fd014561e28e7250da4d60241f31cf950ff866b14 <NA> \n",
       "        Reported.by                 Falls.within                Longitude\n",
       "1070871 Metropolitan Police Service Metropolitan Police Service -0.606664\n",
       "1070872 Metropolitan Police Service Metropolitan Police Service -0.608141\n",
       "1070873 Metropolitan Police Service Metropolitan Police Service -0.608141\n",
       "1070874 Metropolitan Police Service Metropolitan Police Service -0.580030\n",
       "1070875 Metropolitan Police Service Metropolitan Police Service -0.610450\n",
       "1070876 Metropolitan Police Service Metropolitan Police Service -2.135083\n",
       "        Latitude Location                  LSOA.code\n",
       "1070871 51.48515 On or near Chapter Mews   E01016567\n",
       "1070872 51.48397 On or near Thames Street  E01016567\n",
       "1070873 51.48397 On or near Thames Street  E01016567\n",
       "1070874 51.48203 On or near The Avenue     E01016565\n",
       "1070875 51.48050 On or near William Street E01016545\n",
       "1070876 52.59150 On or near Paget Street   E01010529\n",
       "        LSOA.name                   Crime.type                  \n",
       "1070871 Windsor and Maidenhead 010B Possession of weapons       \n",
       "1070872 Windsor and Maidenhead 010B Violence and sexual offences\n",
       "1070873 Windsor and Maidenhead 010B Violence and sexual offences\n",
       "1070874 Windsor and Maidenhead 011B Drugs                       \n",
       "1070875 Windsor and Maidenhead 012A Violence and sexual offences\n",
       "1070876 Wolverhampton 016D          Violence and sexual offences\n",
       "        Last.outcome.category Context\n",
       "1070871 Local resolution      NA     \n",
       "1070872 Under investigation   NA     \n",
       "1070873 Under investigation   NA     \n",
       "1070874 Under investigation   NA     \n",
       "1070875 Under investigation   NA     \n",
       "1070876 Under investigation   NA     "
      ]
     },
     "metadata": {},
     "output_type": "display_data"
    }
   ],
   "source": [
    "tail(df2021)"
   ]
  }
 ],
 "metadata": {
  "kernelspec": {
   "display_name": "R",
   "language": "R",
   "name": "ir"
  },
  "language_info": {
   "codemirror_mode": "r",
   "file_extension": ".r",
   "mimetype": "text/x-r-source",
   "name": "R",
   "pygments_lexer": "r",
   "version": "4.1.3"
  }
 },
 "nbformat": 4,
 "nbformat_minor": 5
}
